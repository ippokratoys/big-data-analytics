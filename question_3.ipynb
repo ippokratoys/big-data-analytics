{
 "cells": [
  {
   "cell_type": "markdown",
   "metadata": {},
   "source": [
    "# Requirement 3 - Sentiment Analysis"
   ]
  },
  {
   "cell_type": "code",
   "execution_count": 3,
   "metadata": {},
   "outputs": [],
   "source": [
    "from __future__ import absolute_import, division, print_function, unicode_literals\n",
    "import tensorflow as tf\n",
    "from tensorflow import keras as keras\n",
    "import numpy as np\n",
    "import pandas as pd\n",
    "import warnings\n",
    "from matplotlib import pyplot as plt\n",
    "from timeit import default_timer as timer\n",
    "from sklearn.feature_extraction.text import ENGLISH_STOP_WORDS, HashingVectorizer, TfidfVectorizer\n",
    "from sklearn.model_selection import KFold, train_test_split\n",
    "from sklearn.metrics import f1_score, accuracy_score, precision_score, recall_score\n",
    "from sklearn.decomposition import TruncatedSVD\n",
    "from sklearn.svm import LinearSVC\n",
    "import logging\n",
    "logger = tf.get_logger()\n",
    "logger.setLevel(logging.ERROR)\n",
    "%matplotlib inline"
   ]
  },
  {
   "cell_type": "code",
   "execution_count": 4,
   "metadata": {},
   "outputs": [
    {
     "name": "stderr",
     "output_type": "stream",
     "text": [
      "/home/dimitriosrou/anaconda3/envs/ml_gpu/lib/python3.6/site-packages/tensorflow_core/python/client/session.py:1750: UserWarning: An interactive session is already active. This can cause out-of-memory errors in some cases. You must explicitly call `InteractiveSession.close()` to release resources held by the other session(s).\n",
      "  warnings.warn('An interactive session is already active. This can '\n"
     ]
    }
   ],
   "source": [
    "from tensorflow.compat.v1 import ConfigProto\n",
    "from tensorflow.compat.v1 import InteractiveSession\n",
    "\n",
    "config = ConfigProto()\n",
    "config.gpu_options.allow_growth = True\n",
    "session = InteractiveSession(config=config)"
   ]
  },
  {
   "cell_type": "code",
   "execution_count": 5,
   "metadata": {},
   "outputs": [],
   "source": [
    "np.random.seed(42)\n",
    "tf.random.set_seed(22)"
   ]
  },
  {
   "cell_type": "code",
   "execution_count": 6,
   "metadata": {},
   "outputs": [],
   "source": [
    "warnings.simplefilter(action='ignore', category=FutureWarning)"
   ]
  },
  {
   "cell_type": "code",
   "execution_count": 7,
   "metadata": {},
   "outputs": [],
   "source": [
    "df = pd.read_csv('train.csv')"
   ]
  },
  {
   "cell_type": "code",
   "execution_count": 8,
   "metadata": {},
   "outputs": [
    {
     "data": {
      "text/html": [
       "<div>\n",
       "<style scoped>\n",
       "    .dataframe tbody tr th:only-of-type {\n",
       "        vertical-align: middle;\n",
       "    }\n",
       "\n",
       "    .dataframe tbody tr th {\n",
       "        vertical-align: top;\n",
       "    }\n",
       "\n",
       "    .dataframe thead th {\n",
       "        text-align: right;\n",
       "    }\n",
       "</style>\n",
       "<table border=\"1\" class=\"dataframe\">\n",
       "  <thead>\n",
       "    <tr style=\"text-align: right;\">\n",
       "      <th></th>\n",
       "      <th>Content</th>\n",
       "      <th>Label</th>\n",
       "      <th>Id</th>\n",
       "    </tr>\n",
       "  </thead>\n",
       "  <tbody>\n",
       "    <tr>\n",
       "      <th>0</th>\n",
       "      <td>Whoever made this movie must have done it as a...</td>\n",
       "      <td>0</td>\n",
       "      <td>0</td>\n",
       "    </tr>\n",
       "    <tr>\n",
       "      <th>1</th>\n",
       "      <td>I love this movie because I grew up around har...</td>\n",
       "      <td>1</td>\n",
       "      <td>1</td>\n",
       "    </tr>\n",
       "    <tr>\n",
       "      <th>2</th>\n",
       "      <td>I had some expectation for the movie, since it...</td>\n",
       "      <td>0</td>\n",
       "      <td>2</td>\n",
       "    </tr>\n",
       "    <tr>\n",
       "      <th>3</th>\n",
       "      <td>During the early 1980's, Kurt Thomas was somet...</td>\n",
       "      <td>0</td>\n",
       "      <td>3</td>\n",
       "    </tr>\n",
       "    <tr>\n",
       "      <th>4</th>\n",
       "      <td>Poor Will would be rolling over in his grave i...</td>\n",
       "      <td>0</td>\n",
       "      <td>4</td>\n",
       "    </tr>\n",
       "  </tbody>\n",
       "</table>\n",
       "</div>"
      ],
      "text/plain": [
       "                                             Content  Label  Id\n",
       "0  Whoever made this movie must have done it as a...      0   0\n",
       "1  I love this movie because I grew up around har...      1   1\n",
       "2  I had some expectation for the movie, since it...      0   2\n",
       "3  During the early 1980's, Kurt Thomas was somet...      0   3\n",
       "4  Poor Will would be rolling over in his grave i...      0   4"
      ]
     },
     "execution_count": 8,
     "metadata": {},
     "output_type": "execute_result"
    }
   ],
   "source": [
    "df.head()"
   ]
  },
  {
   "cell_type": "code",
   "execution_count": 9,
   "metadata": {},
   "outputs": [
    {
     "data": {
      "image/png": "[encoded data removed]",
      "text/plain": [
       "<Figure size 432x288 with 1 Axes>"
      ]
     },
     "metadata": {
      "needs_background": "light"
     },
     "output_type": "display_data"
    }
   ],
   "source": [
    "fig = plt.figure()\n",
    "df.groupby('Label')['Content'].count().plot.bar()\n",
    "plt.show()"
   ]
  },
  {
   "cell_type": "code",
   "execution_count": 10,
   "metadata": {},
   "outputs": [
    {
     "data": {
      "text/plain": [
       "Label\n",
       "0    0.5\n",
       "1    0.5\n",
       "Name: Content, dtype: float64"
      ]
     },
     "execution_count": 10,
     "metadata": {},
     "output_type": "execute_result"
    }
   ],
   "source": [
    "df.groupby('Label')['Content'].count() / len(df)"
   ]
  },
  {
   "cell_type": "code",
   "execution_count": 11,
   "metadata": {},
   "outputs": [],
   "source": [
    "def get_metrics(y_true, y_pred, metrics):\n",
    "    metrics[0] += accuracy_score(y_true, y_pred)\n",
    "    metrics[1] += precision_score(y_true, y_pred, average='macro')\n",
    "    metrics[2] += recall_score(y_true, y_pred, average='macro')\n",
    "    metrics[3] += f1_score(y_true, y_pred, average='macro')\n",
    "    return metrics"
   ]
  },
  {
   "cell_type": "code",
   "execution_count": 12,
   "metadata": {},
   "outputs": [],
   "source": [
    "def evaluate_classifier(clf, kfold, X, y, vectorizer, svd_enable=False):\n",
    "    metrics = np.zeros(4)\n",
    "    if svd_enable:\n",
    "        svd = TruncatedSVD(n_components=300)\n",
    "    start = timer()\n",
    "    for train, cv in kfold.split(X, y):\n",
    "        X_train, X_cv = X[train], X[cv]\n",
    "        y_train, y_cv = y[train], y[cv]\n",
    "        X_train_gen = [x for x in X_train]\n",
    "        vectorizer.fit(X_train_gen)\n",
    "        X_train_vec = vectorizer.transform(X_train_gen)\n",
    "        if svd_enable:\n",
    "            svd.fit(X_train_vec, y_train)\n",
    "            X_train_vec = svd.transform(X_train_vec)\n",
    "        clf.fit(X_train_vec, y_train)\n",
    "        X_cv_gen = [x for x in X_cv]\n",
    "        X_cv_vec = vectorizer.transform(X_cv_gen)\n",
    "        if svd_enable:\n",
    "            X_cv_vec = svd.transform(X_cv_vec)\n",
    "        y_pred = clf.predict(X_cv_vec)\n",
    "        metrics = get_metrics(y_cv, y_pred, metrics)\n",
    "    dt = timer() - start\n",
    "    metrics = metrics * 100 / 5\n",
    "    print('Evaluation of classifier finished in {:.2f} s \\n'\n",
    "          'Average accuracy: {:.2f} % \\n'\n",
    "          'Average precision: {:.2f} % \\n'\n",
    "          'Average recall: {:.2f} % \\n'\n",
    "          'Average f-measure: {:.2f} % \\n'\n",
    "          .format(dt, metrics[0], metrics[1],\n",
    "                  metrics[2], metrics[3]))"
   ]
  },
  {
   "cell_type": "markdown",
   "metadata": {},
   "source": [
    "## Machine Learning & BoW"
   ]
  },
  {
   "cell_type": "code",
   "execution_count": 13,
   "metadata": {},
   "outputs": [],
   "source": [
    "# 5-Fold cross-validation\n",
    "kf = KFold(n_splits=5, shuffle=True, random_state=56)\n",
    "\n",
    "# Hashing vectorizer and stop words\n",
    "stop_words = ENGLISH_STOP_WORDS\n",
    "hashing = HashingVectorizer(stop_words=stop_words)\n",
    "tfidf = TfidfVectorizer(stop_words=stop_words, min_df=3, \n",
    "                        max_df=0.5, ngram_range=(1, 2))\n",
    "# SVM and Random Forest\n",
    "svm = LinearSVC()\n",
    "\n",
    "# SVD\n",
    "svd = TruncatedSVD(n_components=250)"
   ]
  },
  {
   "cell_type": "code",
   "execution_count": null,
   "metadata": {},
   "outputs": [],
   "source": [
    "X = df['Content'].to_dense().values\n",
    "y = df['Label'].to_dense().values"
   ]
  },
  {
   "cell_type": "code",
   "execution_count": null,
   "metadata": {},
   "outputs": [],
   "source": [
    "# SVM - BoW\n",
    "evaluate_classifier(svm, kf, X, y, tfidf)"
   ]
  },
  {
   "cell_type": "markdown",
   "metadata": {},
   "source": [
    "## Deep Learning with Keras"
   ]
  },
  {
   "cell_type": "code",
   "execution_count": null,
   "metadata": {},
   "outputs": [],
   "source": [
    "for train, cv in kf.split(X, y):\n",
    "    X_train, X_cv = X[train], X[cv]\n",
    "    y_train, y_cv = y[train], y[cv]\n",
    "    X_train_gen = [x for x in X_train]\n",
    "    X_cv_gen = [x for x in X_cv]"
   ]
  },
  {
   "cell_type": "code",
   "execution_count": 14,
   "metadata": {},
   "outputs": [],
   "source": [
    "X = df['Content'].values\n",
    "y = df['Label'].values"
   ]
  },
  {
   "cell_type": "code",
   "execution_count": 15,
   "metadata": {},
   "outputs": [],
   "source": [
    "X_train, X_test, y_train, y_test = train_test_split(X, y, test_size=0.15, shuffle=True)"
   ]
  },
  {
   "cell_type": "code",
   "execution_count": 41,
   "metadata": {},
   "outputs": [],
   "source": [
    "tfidf = TfidfVectorizer(stop_words=stop_words, min_df=3, \n",
    "                        max_df=0.5, ngram_range=(1, 2))\n",
    "#X_train_gen = [x for x in X_train]\n",
    "tfidf.fit(X_train)\n",
    "X_train_vec = tfidf.transform(X_train)"
   ]
  },
  {
   "cell_type": "code",
   "execution_count": 42,
   "metadata": {},
   "outputs": [],
   "source": [
    "input_shape = X_train_vec.shape[1:]"
   ]
  },
  {
   "cell_type": "code",
   "execution_count": 43,
   "metadata": {},
   "outputs": [
    {
     "data": {
      "text/plain": [
       "(21250, 135666)"
      ]
     },
     "execution_count": 43,
     "metadata": {},
     "output_type": "execute_result"
    }
   ],
   "source": [
    "X_train_vec.shape"
   ]
  },
  {
   "cell_type": "code",
   "execution_count": 48,
   "metadata": {},
   "outputs": [],
   "source": [
    "keras.backend.clear_session()\n",
    "\n",
    "model = keras.Sequential([\n",
    "    keras.layers.Dropout(0.25, input_shape=input_shape),\n",
    "    keras.layers.Dense(128, activation='relu'),\n",
    "    keras.layers.Dropout(0.9),\n",
    "    keras.layers.Dense(64, activation='relu'),\n",
    "    keras.layers.Dropout(0.85),\n",
    "#     keras.layers.Embedding(input_dim=35000, output_dim=64),\n",
    "#     keras.layers.LSTM(32),\n",
    "    keras.layers.Dense(1, activation='sigmoid')\n",
    "])\n",
    "\n",
    "early_stopping = keras.callbacks.EarlyStopping(patience=10)\n",
    "model_checkpoint = keras.callbacks.ModelCheckpoint(\n",
    "                   \"imdb_sentiment.h5\", save_best_only=True)\n",
    "reduce_lr = keras.callbacks.ReduceLROnPlateau(factor=0.7, patience=3)\n",
    "optimizer = keras.optimizers.Adam(lr=1e-2, amsgrad=True)\n",
    "model.compile(optimizer=optimizer,\n",
    "              loss='binary_crossentropy',\n",
    "              metrics=['accuracy'])"
   ]
  },
  {
   "cell_type": "code",
   "execution_count": 49,
   "metadata": {
    "scrolled": true
   },
   "outputs": [
    {
     "name": "stdout",
     "output_type": "stream",
     "text": [
      "Train on 18062 samples, validate on 3188 samples\n",
      "Epoch 1/80\n",
      "18062/18062 [==============================] - 17s 958us/sample - loss: 0.6437 - accuracy: 0.6018 - val_loss: 0.4416 - val_accuracy: 0.8695\n",
      "Epoch 2/80\n",
      "18062/18062 [==============================] - 14s 754us/sample - loss: 0.4941 - accuracy: 0.7597 - val_loss: 0.3343 - val_accuracy: 0.8849\n",
      "Epoch 3/80\n",
      "18062/18062 [==============================] - 14s 753us/sample - loss: 0.4276 - accuracy: 0.7959 - val_loss: 0.3146 - val_accuracy: 0.8905\n",
      "Epoch 4/80\n",
      "18062/18062 [==============================] - 14s 754us/sample - loss: 0.3886 - accuracy: 0.8241 - val_loss: 0.2791 - val_accuracy: 0.8965\n",
      "Epoch 5/80\n",
      "18062/18062 [==============================] - 14s 752us/sample - loss: 0.3504 - accuracy: 0.8451 - val_loss: 0.2733 - val_accuracy: 0.8996\n",
      "Epoch 6/80\n",
      "18062/18062 [==============================] - 14s 753us/sample - loss: 0.3312 - accuracy: 0.8539 - val_loss: 0.2596 - val_accuracy: 0.8962\n",
      "Epoch 7/80\n",
      "18062/18062 [==============================] - 14s 754us/sample - loss: 0.3125 - accuracy: 0.8645 - val_loss: 0.2561 - val_accuracy: 0.8999\n",
      "Epoch 8/80\n",
      "18062/18062 [==============================] - 13s 727us/sample - loss: 0.2950 - accuracy: 0.8724 - val_loss: 0.2613 - val_accuracy: 0.8990\n",
      "Epoch 9/80\n",
      "18062/18062 [==============================] - 14s 758us/sample - loss: 0.2816 - accuracy: 0.8785 - val_loss: 0.2546 - val_accuracy: 0.9012\n",
      "Epoch 10/80\n",
      "18062/18062 [==============================] - 14s 759us/sample - loss: 0.2607 - accuracy: 0.8869 - val_loss: 0.2545 - val_accuracy: 0.9018\n",
      "Epoch 11/80\n",
      "18062/18062 [==============================] - 14s 754us/sample - loss: 0.2482 - accuracy: 0.8928 - val_loss: 0.2533 - val_accuracy: 0.9003\n",
      "Epoch 12/80\n",
      "18062/18062 [==============================] - 13s 723us/sample - loss: 0.2434 - accuracy: 0.8954 - val_loss: 0.2556 - val_accuracy: 0.9021\n",
      "Epoch 13/80\n",
      "18062/18062 [==============================] - 14s 759us/sample - loss: 0.2267 - accuracy: 0.9029 - val_loss: 0.2531 - val_accuracy: 0.9015\n",
      "Epoch 14/80\n",
      "18062/18062 [==============================] - 13s 726us/sample - loss: 0.2219 - accuracy: 0.9038 - val_loss: 0.2541 - val_accuracy: 0.9018\n",
      "Epoch 15/80\n",
      "18062/18062 [==============================] - 13s 721us/sample - loss: 0.2098 - accuracy: 0.9111 - val_loss: 0.2571 - val_accuracy: 0.8981\n",
      "Epoch 16/80\n",
      "18062/18062 [==============================] - 13s 722us/sample - loss: 0.2022 - accuracy: 0.9090 - val_loss: 0.2628 - val_accuracy: 0.8990\n",
      "Epoch 17/80\n",
      "18062/18062 [==============================] - 13s 722us/sample - loss: 0.2111 - accuracy: 0.9093 - val_loss: 0.2576 - val_accuracy: 0.8984\n",
      "Epoch 18/80\n",
      "18062/18062 [==============================] - 13s 728us/sample - loss: 0.1977 - accuracy: 0.9118 - val_loss: 0.2634 - val_accuracy: 0.8987\n",
      "Epoch 19/80\n",
      "18062/18062 [==============================] - 13s 727us/sample - loss: 0.1767 - accuracy: 0.9198 - val_loss: 0.2717 - val_accuracy: 0.8977\n",
      "Epoch 20/80\n",
      "18062/18062 [==============================] - 13s 722us/sample - loss: 0.1747 - accuracy: 0.9184 - val_loss: 0.2776 - val_accuracy: 0.8990\n",
      "Epoch 21/80\n",
      "18062/18062 [==============================] - 13s 739us/sample - loss: 0.1737 - accuracy: 0.9260 - val_loss: 0.2684 - val_accuracy: 0.8996\n",
      "Epoch 22/80\n",
      "18062/18062 [==============================] - 13s 747us/sample - loss: 0.1709 - accuracy: 0.9240 - val_loss: 0.2717 - val_accuracy: 0.8977\n",
      "Epoch 23/80\n",
      "18062/18062 [==============================] - 13s 734us/sample - loss: 0.1650 - accuracy: 0.9243 - val_loss: 0.2764 - val_accuracy: 0.8987\n"
     ]
    }
   ],
   "source": [
    "history = model.fit(X_train_vec, y_train,\n",
    "                    batch_size=256, epochs=80, \n",
    "                    callbacks=[early_stopping, \n",
    "                               model_checkpoint,\n",
    "                               reduce_lr],\n",
    "                    validation_split=0.15)"
   ]
  },
  {
   "cell_type": "code",
   "execution_count": 50,
   "metadata": {},
   "outputs": [
    {
     "data": {
      "image/png": "[encoded data removed]",
      "text/plain": [
       "<Figure size 1440x720 with 2 Axes>"
      ]
     },
     "metadata": {
      "needs_background": "light"
     },
     "output_type": "display_data"
    }
   ],
   "source": [
    "# Evaluate train and validation accuracies and losses\n",
    "train_acc = history.history['accuracy']\n",
    "val_acc = history.history['val_accuracy']\n",
    "\n",
    "train_loss = history.history['loss']\n",
    "val_loss = history.history['val_loss']\n",
    "\n",
    "# Visualize epochs vs. train and validation accuracies and losses\n",
    "plt.figure(figsize=(20, 10))\n",
    "\n",
    "plt.subplot(1, 2, 1)\n",
    "plt.plot(train_acc, label='Training Accuracy')\n",
    "plt.plot(val_acc, label='Validation Accuracy')\n",
    "plt.legend()\n",
    "plt.title('Epochs vs. Training and Validation Accuracy')\n",
    "    \n",
    "plt.subplot(1, 2, 2)\n",
    "plt.plot(train_loss, label='Training Loss')\n",
    "plt.plot(val_loss, label='Validation Loss')\n",
    "plt.legend()\n",
    "plt.title('Epochs vs. Training and Validation Loss')\n",
    "\n",
    "plt.show()"
   ]
  },
  {
   "cell_type": "code",
   "execution_count": 51,
   "metadata": {},
   "outputs": [
    {
     "name": "stdout",
     "output_type": "stream",
     "text": [
      "Average accuracy: 90.45 % \n",
      "Average precision: 90.45 % \n",
      "Average recall: 90.44 % \n",
      "Average f-measure: 90.44 % \n",
      "\n"
     ]
    }
   ],
   "source": [
    "final_model = keras.models.load_model('imdb_sentiment.h5')\n",
    "metrics = np.zeros(4)\n",
    "X_test_vec = tfidf.transform(X_test)\n",
    "prediction = final_model.predict(X_test_vec)\n",
    "y_pred = (prediction > 0.5)\n",
    "metrics = get_metrics(y_test, y_pred, metrics)\n",
    "metrics = metrics * 100\n",
    "print('Average accuracy: {:.2f} % \\n'\n",
    "      'Average precision: {:.2f} % \\n'\n",
    "      'Average recall: {:.2f} % \\n'\n",
    "      'Average f-measure: {:.2f} % \\n'\n",
    "      .format(metrics[0], metrics[1],\n",
    "              metrics[2], metrics[3]))"
   ]
  },
  {
   "cell_type": "code",
   "execution_count": null,
   "metadata": {},
   "outputs": [],
   "source": [
    "for train, cv in kf.split(X, y):\n",
    "    X_train, X_cv = X[train], X[cv]\n",
    "    y_train, y_cv = y[train], y[cv]\n",
    "    X_train_gen = [x for x in X_train]\n",
    "    X_cv_gen = [x for x in X_cv]\n",
    "    X_train = keras.preprocessing.sequence.pad_sequences(X_train, maxlen=100)\n",
    "    X_cv = keras.preprocessing.sequence.pad_sequences(X_cv, maxlen=100)\n",
    "    history = model.fit(X_train, y_train,\n",
    "                    batch_size=32,\n",
    "                    epochs=50, callbacks=[early_stopping],\n",
    "                    validation_split=0.15)"
   ]
  },
  {
   "cell_type": "markdown",
   "metadata": {},
   "source": [
    "## Deliverable for competition"
   ]
  },
  {
   "cell_type": "code",
   "execution_count": 53,
   "metadata": {},
   "outputs": [],
   "source": [
    "df_test = pd.read_csv('test_without_labels.csv')"
   ]
  },
  {
   "cell_type": "code",
   "execution_count": 54,
   "metadata": {},
   "outputs": [],
   "source": [
    "X_final = df_test['Content'].values"
   ]
  },
  {
   "cell_type": "code",
   "execution_count": 61,
   "metadata": {},
   "outputs": [],
   "source": [
    "tfidf.fit(X)\n",
    "X_train_vec = tfidf.transform(X)\n",
    "input_shape = X_train_vec.shape[1:]\n",
    "\n",
    "keras.backend.clear_session()\n",
    "\n",
    "model = keras.Sequential([\n",
    "    keras.layers.Dropout(0.25, input_shape=input_shape),\n",
    "    keras.layers.Dense(128, activation='relu'),\n",
    "    keras.layers.Dropout(0.9),\n",
    "    keras.layers.Dense(64, activation='relu'),\n",
    "    keras.layers.Dropout(0.85),\n",
    "    keras.layers.Dense(1, activation='sigmoid')\n",
    "])\n",
    "\n",
    "early_stopping = keras.callbacks.EarlyStopping(patience=5)\n",
    "model_checkpoint = keras.callbacks.ModelCheckpoint(\n",
    "                   \"imdb_sentiment.h5\", save_best_only=True)\n",
    "reduce_lr = keras.callbacks.ReduceLROnPlateau(factor=0.7, patience=3)\n",
    "optimizer = keras.optimizers.Adam(lr=1e-2, amsgrad=True)\n",
    "model.compile(optimizer=optimizer,\n",
    "              loss='binary_crossentropy',\n",
    "              metrics=['accuracy'])"
   ]
  },
  {
   "cell_type": "code",
   "execution_count": 62,
   "metadata": {
    "scrolled": true
   },
   "outputs": [
    {
     "name": "stdout",
     "output_type": "stream",
     "text": [
      "Train on 21250 samples, validate on 3750 samples\n",
      "Epoch 1/80\n",
      "21250/21250 [==============================] - 24s 1ms/sample - loss: 0.6268 - accuracy: 0.6173 - val_loss: 0.4106 - val_accuracy: 0.8736\n",
      "Epoch 2/80\n",
      "21250/21250 [==============================] - 19s 879us/sample - loss: 0.4924 - accuracy: 0.7607 - val_loss: 0.3294 - val_accuracy: 0.8901\n",
      "Epoch 3/80\n",
      "21250/21250 [==============================] - 19s 884us/sample - loss: 0.4349 - accuracy: 0.8056 - val_loss: 0.3001 - val_accuracy: 0.8987\n",
      "Epoch 4/80\n",
      "21250/21250 [==============================] - 19s 872us/sample - loss: 0.3815 - accuracy: 0.8316 - val_loss: 0.2712 - val_accuracy: 0.9003\n",
      "Epoch 5/80\n",
      "21250/21250 [==============================] - 19s 875us/sample - loss: 0.3635 - accuracy: 0.8457 - val_loss: 0.2644 - val_accuracy: 0.9003\n",
      "Epoch 6/80\n",
      "21250/21250 [==============================] - 19s 874us/sample - loss: 0.3236 - accuracy: 0.8606 - val_loss: 0.2508 - val_accuracy: 0.9037\n",
      "Epoch 7/80\n",
      "21250/21250 [==============================] - 19s 877us/sample - loss: 0.3092 - accuracy: 0.8689 - val_loss: 0.2441 - val_accuracy: 0.9019\n",
      "Epoch 8/80\n",
      "21250/21250 [==============================] - 18s 870us/sample - loss: 0.2878 - accuracy: 0.8818 - val_loss: 0.2389 - val_accuracy: 0.9016\n",
      "Epoch 9/80\n",
      "21250/21250 [==============================] - 19s 876us/sample - loss: 0.2743 - accuracy: 0.8881 - val_loss: 0.2384 - val_accuracy: 0.9011\n",
      "Epoch 10/80\n",
      "21250/21250 [==============================] - 19s 880us/sample - loss: 0.2552 - accuracy: 0.8941 - val_loss: 0.2352 - val_accuracy: 0.9008\n",
      "Epoch 11/80\n",
      "21250/21250 [==============================] - 18s 843us/sample - loss: 0.2470 - accuracy: 0.9000 - val_loss: 0.2362 - val_accuracy: 0.9003\n",
      "Epoch 12/80\n",
      "21250/21250 [==============================] - 18s 854us/sample - loss: 0.2426 - accuracy: 0.9019 - val_loss: 0.2353 - val_accuracy: 0.9032\n",
      "Epoch 13/80\n",
      "21250/21250 [==============================] - 18s 842us/sample - loss: 0.2279 - accuracy: 0.9073 - val_loss: 0.2353 - val_accuracy: 0.9035\n",
      "Epoch 14/80\n",
      "21250/21250 [==============================] - 19s 882us/sample - loss: 0.2221 - accuracy: 0.9096 - val_loss: 0.2333 - val_accuracy: 0.9037\n",
      "Epoch 15/80\n",
      "21250/21250 [==============================] - 18s 843us/sample - loss: 0.2115 - accuracy: 0.9140 - val_loss: 0.2348 - val_accuracy: 0.9051\n",
      "Epoch 16/80\n",
      "21250/21250 [==============================] - 18s 843us/sample - loss: 0.2099 - accuracy: 0.9144 - val_loss: 0.2344 - val_accuracy: 0.9051\n",
      "Epoch 17/80\n",
      "21250/21250 [==============================] - 18s 857us/sample - loss: 0.1949 - accuracy: 0.9211 - val_loss: 0.2396 - val_accuracy: 0.9056\n",
      "Epoch 18/80\n",
      "21250/21250 [==============================] - 18s 850us/sample - loss: 0.1978 - accuracy: 0.9185 - val_loss: 0.2359 - val_accuracy: 0.9045\n",
      "Epoch 19/80\n",
      "21250/21250 [==============================] - 18s 848us/sample - loss: 0.1827 - accuracy: 0.9248 - val_loss: 0.2429 - val_accuracy: 0.9051\n",
      "Epoch 20/80\n",
      "21250/21250 [==============================] - 18s 863us/sample - loss: 0.1811 - accuracy: 0.9264 - val_loss: 0.2418 - val_accuracy: 0.9051\n",
      "Epoch 21/80\n",
      "21250/21250 [==============================] - 18s 843us/sample - loss: 0.1743 - accuracy: 0.9300 - val_loss: 0.2416 - val_accuracy: 0.9040\n",
      "Epoch 22/80\n",
      "21250/21250 [==============================] - 18s 841us/sample - loss: 0.1718 - accuracy: 0.9289 - val_loss: 0.2426 - val_accuracy: 0.9037\n",
      "Epoch 23/80\n",
      "21250/21250 [==============================] - 18s 855us/sample - loss: 0.1689 - accuracy: 0.9287 - val_loss: 0.2414 - val_accuracy: 0.9040\n",
      "Epoch 24/80\n",
      "21250/21250 [==============================] - 18s 847us/sample - loss: 0.1548 - accuracy: 0.9338 - val_loss: 0.2523 - val_accuracy: 0.9037\n"
     ]
    },
    {
     "data": {
      "text/plain": [
       "<tensorflow.python.keras.callbacks.History at 0x7ff5f04d8c50>"
      ]
     },
     "execution_count": 62,
     "metadata": {},
     "output_type": "execute_result"
    }
   ],
   "source": [
    "model.fit(X_train_vec, y,\n",
    "          batch_size=256, epochs=80, \n",
    "          callbacks=[early_stopping, \n",
    "                     model_checkpoint,\n",
    "                     reduce_lr],\n",
    "          validation_split=0.20)"
   ]
  },
  {
   "cell_type": "code",
   "execution_count": 75,
   "metadata": {},
   "outputs": [],
   "source": [
    "X_test_vec = tfidf.transform(X_final)\n",
    "final_model = keras.models.load_model('imdb_sentiment.h5')\n",
    "prediction = final_model.predict(X_test_vec)\n",
    "y_pred = (prediction > 0.5)"
   ]
  },
  {
   "cell_type": "code",
   "execution_count": 76,
   "metadata": {},
   "outputs": [],
   "source": [
    "y_pred = y_pred * 1"
   ]
  },
  {
   "cell_type": "code",
   "execution_count": 77,
   "metadata": {},
   "outputs": [],
   "source": [
    "df_results = pd.DataFrame({'Id':df_test['Id'], 'Predicted':y_pred[:, 0]})"
   ]
  },
  {
   "cell_type": "code",
   "execution_count": 78,
   "metadata": {},
   "outputs": [],
   "source": [
    "df_results.to_csv('sentiment_predictions.csv',index=False, header=True)"
   ]
  },
  {
   "cell_type": "code",
   "execution_count": null,
   "metadata": {},
   "outputs": [],
   "source": []
  }
 ],
 "metadata": {
  "kernelspec": {
   "display_name": "Python 3",
   "language": "python",
   "name": "python3"
  },
  "language_info": {
   "codemirror_mode": {
    "name": "ipython",
    "version": 3
   },
   "file_extension": ".py",
   "mimetype": "text/x-python",
   "name": "python",
   "nbconvert_exporter": "python",
   "pygments_lexer": "ipython3",
   "version": "3.6.7"
  },
  "toc": {
   "base_numbering": 1,
   "nav_menu": {},
   "number_sections": false,
   "sideBar": true,
   "skip_h1_title": false,
   "title_cell": "Table of Contents",
   "title_sidebar": "Contents",
   "toc_cell": false,
   "toc_position": {},
   "toc_section_display": true,
   "toc_window_display": true
  },
  "varInspector": {
   "cols": {
    "lenName": 16,
    "lenType": 16,
    "lenVar": 40
   },
   "kernels_config": {
    "python": {
     "delete_cmd_postfix": "",
     "delete_cmd_prefix": "del ",
     "library": "var_list.py",
     "varRefreshCmd": "print(var_dic_list())"
    },
    "r": {
     "delete_cmd_postfix": ") ",
     "delete_cmd_prefix": "rm(",
     "library": "var_list.r",
     "varRefreshCmd": "cat(var_dic_list()) "
    }
   },
   "types_to_exclude": [
    "module",
    "function",
    "builtin_function_or_method",
    "instance",
    "_Feature"
   ],
   "window_display": false
  }
 },
 "nbformat": 4,
 "nbformat_minor": 2
}
