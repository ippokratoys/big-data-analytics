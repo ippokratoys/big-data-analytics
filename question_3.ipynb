{
 "cells": [
  {
   "cell_type": "markdown",
   "metadata": {},
   "source": [
    "# Requirement 3 - Sentiment Analysis"
   ]
  },
  {
   "cell_type": "code",
   "execution_count": 498,
   "metadata": {},
   "outputs": [],
   "source": [
    "from __future__ import absolute_import, division, print_function, unicode_literals\n",
    "import tensorflow as tf\n",
    "from tensorflow import keras as keras\n",
    "import numpy as np\n",
    "import pandas as pd\n",
    "import warnings\n",
    "from matplotlib import pyplot as plt\n",
    "from timeit import default_timer as timer\n",
    "from sklearn.feature_extraction.text import ENGLISH_STOP_WORDS, HashingVectorizer, TfidfVectorizer\n",
    "from sklearn.ensemble import VotingClassifier\n",
    "from sklearn.linear_model import RidgeClassifier, PassiveAggressiveClassifier, SGDClassifier\n",
    "from sklearn.model_selection import KFold, train_test_split\n",
    "from sklearn.metrics import f1_score, accuracy_score, precision_score, recall_score\n",
    "from sklearn.decomposition import TruncatedSVD\n",
    "from sklearn.svm import LinearSVC\n",
    "import logging\n",
    "logger = tf.get_logger()\n",
    "logger.setLevel(logging.ERROR)\n",
    "%matplotlib inline"
   ]
  },
  {
   "cell_type": "code",
   "execution_count": 499,
   "metadata": {},
   "outputs": [
    {
     "name": "stderr",
     "output_type": "stream",
     "text": [
      "/home/dimitriosrou/anaconda3/envs/ml_gpu/lib/python3.6/site-packages/tensorflow_core/python/client/session.py:1750: UserWarning: An interactive session is already active. This can cause out-of-memory errors in some cases. You must explicitly call `InteractiveSession.close()` to release resources held by the other session(s).\n",
      "  warnings.warn('An interactive session is already active. This can '\n"
     ]
    }
   ],
   "source": [
    "from tensorflow.compat.v1 import ConfigProto\n",
    "from tensorflow.compat.v1 import InteractiveSession\n",
    "\n",
    "config = ConfigProto()\n",
    "config.gpu_options.allow_growth = True\n",
    "session = InteractiveSession(config=config)"
   ]
  },
  {
   "cell_type": "code",
   "execution_count": 500,
   "metadata": {},
   "outputs": [],
   "source": [
    "np.random.seed(42)\n",
    "tf.random.set_seed(22)"
   ]
  },
  {
   "cell_type": "code",
   "execution_count": 501,
   "metadata": {},
   "outputs": [],
   "source": [
    "warnings.simplefilter(action='ignore', category=FutureWarning)"
   ]
  },
  {
   "cell_type": "code",
   "execution_count": 502,
   "metadata": {},
   "outputs": [],
   "source": [
    "df = pd.read_csv('train.csv')"
   ]
  },
  {
   "cell_type": "code",
   "execution_count": 503,
   "metadata": {},
   "outputs": [
    {
     "data": {
      "text/html": [
       "<div>\n",
       "<style scoped>\n",
       "    .dataframe tbody tr th:only-of-type {\n",
       "        vertical-align: middle;\n",
       "    }\n",
       "\n",
       "    .dataframe tbody tr th {\n",
       "        vertical-align: top;\n",
       "    }\n",
       "\n",
       "    .dataframe thead th {\n",
       "        text-align: right;\n",
       "    }\n",
       "</style>\n",
       "<table border=\"1\" class=\"dataframe\">\n",
       "  <thead>\n",
       "    <tr style=\"text-align: right;\">\n",
       "      <th></th>\n",
       "      <th>Content</th>\n",
       "      <th>Label</th>\n",
       "      <th>Id</th>\n",
       "    </tr>\n",
       "  </thead>\n",
       "  <tbody>\n",
       "    <tr>\n",
       "      <th>0</th>\n",
       "      <td>Whoever made this movie must have done it as a...</td>\n",
       "      <td>0</td>\n",
       "      <td>0</td>\n",
       "    </tr>\n",
       "    <tr>\n",
       "      <th>1</th>\n",
       "      <td>I love this movie because I grew up around har...</td>\n",
       "      <td>1</td>\n",
       "      <td>1</td>\n",
       "    </tr>\n",
       "    <tr>\n",
       "      <th>2</th>\n",
       "      <td>I had some expectation for the movie, since it...</td>\n",
       "      <td>0</td>\n",
       "      <td>2</td>\n",
       "    </tr>\n",
       "    <tr>\n",
       "      <th>3</th>\n",
       "      <td>During the early 1980's, Kurt Thomas was somet...</td>\n",
       "      <td>0</td>\n",
       "      <td>3</td>\n",
       "    </tr>\n",
       "    <tr>\n",
       "      <th>4</th>\n",
       "      <td>Poor Will would be rolling over in his grave i...</td>\n",
       "      <td>0</td>\n",
       "      <td>4</td>\n",
       "    </tr>\n",
       "  </tbody>\n",
       "</table>\n",
       "</div>"
      ],
      "text/plain": [
       "                                             Content  Label  Id\n",
       "0  Whoever made this movie must have done it as a...      0   0\n",
       "1  I love this movie because I grew up around har...      1   1\n",
       "2  I had some expectation for the movie, since it...      0   2\n",
       "3  During the early 1980's, Kurt Thomas was somet...      0   3\n",
       "4  Poor Will would be rolling over in his grave i...      0   4"
      ]
     },
     "execution_count": 503,
     "metadata": {},
     "output_type": "execute_result"
    }
   ],
   "source": [
    "df.head()"
   ]
  },
  {
   "cell_type": "code",
   "execution_count": 506,
   "metadata": {},
   "outputs": [
    {
     "name": "stdout",
     "output_type": "stream",
     "text": [
      "<class 'pandas.core.frame.DataFrame'>\n",
      "RangeIndex: 25000 entries, 0 to 24999\n",
      "Data columns (total 3 columns):\n",
      "Content    25000 non-null object\n",
      "Label      25000 non-null int64\n",
      "Id         25000 non-null int64\n",
      "dtypes: int64(2), object(1)\n",
      "memory usage: 586.1+ KB\n"
     ]
    }
   ],
   "source": [
    "df.info()\n",
    "len_start = len(df)"
   ]
  },
  {
   "cell_type": "code",
   "execution_count": 507,
   "metadata": {},
   "outputs": [],
   "source": [
    "# Remove articles with duplicate content\n",
    "\n",
    "df.drop_duplicates(subset='Content', keep='last', inplace=True)"
   ]
  },
  {
   "cell_type": "code",
   "execution_count": 508,
   "metadata": {},
   "outputs": [
    {
     "name": "stdout",
     "output_type": "stream",
     "text": [
      "<class 'pandas.core.frame.DataFrame'>\n",
      "Int64Index: 24904 entries, 0 to 24999\n",
      "Data columns (total 3 columns):\n",
      "Content    24904 non-null object\n",
      "Label      24904 non-null int64\n",
      "Id         24904 non-null int64\n",
      "dtypes: int64(2), object(1)\n",
      "memory usage: 778.2+ KB\n"
     ]
    }
   ],
   "source": [
    "df.info()\n",
    "len_end = len(df)"
   ]
  },
  {
   "cell_type": "code",
   "execution_count": 509,
   "metadata": {},
   "outputs": [
    {
     "name": "stdout",
     "output_type": "stream",
     "text": [
      "96 duplicate articles were removed from the dataset\n"
     ]
    }
   ],
   "source": [
    "# Display number of duplicates in the dataset\n",
    "\n",
    "print('{} duplicate articles were removed from the dataset'\n",
    "      .format(len_start - len_end))"
   ]
  },
  {
   "cell_type": "code",
   "execution_count": 510,
   "metadata": {},
   "outputs": [
    {
     "name": "stdout",
     "output_type": "stream",
     "text": [
      "Label\n",
      "0    0.499197\n",
      "1    0.500803\n",
      "Name: Content, dtype: float64\n"
     ]
    }
   ],
   "source": [
    "# Relative frequency of labels\n",
    "\n",
    "rel_freq = df.groupby('Label').Content.count() / len(df)\n",
    "print(rel_freq)"
   ]
  },
  {
   "cell_type": "code",
   "execution_count": 511,
   "metadata": {},
   "outputs": [
    {
     "data": {
      "image/png": "[encoded data removed]",
      "text/plain": [
       "<Figure size 432x360 with 1 Axes>"
      ]
     },
     "metadata": {
      "needs_background": "light"
     },
     "output_type": "display_data"
    }
   ],
   "source": [
    "fig, ax = plt.subplots(figsize=(6, 5))\n",
    "rel_freq.plot.bar(ax=ax)\n",
    "ax.set_title('Relative Frequencies of Labels')\n",
    "ax.set_xlabel('')\n",
    "fig.tight_layout()\n",
    "plt.savefig('label_freq.png')\n",
    "plt.show()"
   ]
  },
  {
   "cell_type": "code",
   "execution_count": 512,
   "metadata": {},
   "outputs": [],
   "source": [
    "def get_metrics(y_true, y_pred, metrics):\n",
    "    metrics[0] += accuracy_score(y_true, y_pred)\n",
    "    metrics[1] += precision_score(y_true, y_pred, average='macro')\n",
    "    metrics[2] += recall_score(y_true, y_pred, average='macro')\n",
    "    metrics[3] += f1_score(y_true, y_pred, average='macro')\n",
    "    return metrics"
   ]
  },
  {
   "cell_type": "code",
   "execution_count": 513,
   "metadata": {},
   "outputs": [],
   "source": [
    "def evaluate_classifier(clf, kfold, X, y, vectorizer, svd_enable=False):\n",
    "    metrics = np.zeros(4)\n",
    "    if svd_enable:\n",
    "        svd = TruncatedSVD(n_components=300)\n",
    "    start = timer()\n",
    "    for train, cv in kfold.split(X, y):\n",
    "        X_train, X_cv = X[train], X[cv]\n",
    "        y_train, y_cv = y[train], y[cv]\n",
    "        X_train_gen = [x for x in X_train]\n",
    "        vectorizer.fit(X_train_gen)\n",
    "        X_train_vec = vectorizer.transform(X_train_gen)\n",
    "        if svd_enable:\n",
    "            svd.fit(X_train_vec, y_train)\n",
    "            X_train_vec = svd.transform(X_train_vec)\n",
    "        clf.fit(X_train_vec, y_train)\n",
    "        X_cv_gen = [x for x in X_cv]\n",
    "        X_cv_vec = vectorizer.transform(X_cv_gen)\n",
    "        if svd_enable:\n",
    "            X_cv_vec = svd.transform(X_cv_vec)\n",
    "        y_pred = clf.predict(X_cv_vec)\n",
    "        metrics = get_metrics(y_cv, y_pred, metrics)\n",
    "    dt = timer() - start\n",
    "    metrics = metrics * 100 / 5\n",
    "    print('Evaluation of classifier finished in {:.2f} s \\n'\n",
    "          'Average accuracy: {:.2f} % \\n'\n",
    "          'Average precision: {:.2f} % \\n'\n",
    "          'Average recall: {:.2f} % \\n'\n",
    "          'Average f-measure: {:.2f} % \\n'\n",
    "          .format(dt, metrics[0], metrics[1],\n",
    "                  metrics[2], metrics[3]))"
   ]
  },
  {
   "cell_type": "markdown",
   "metadata": {},
   "source": [
    "## Classic machine learning method"
   ]
  },
  {
   "cell_type": "code",
   "execution_count": 520,
   "metadata": {},
   "outputs": [],
   "source": [
    "# 5-Fold cross-validation\n",
    "\n",
    "kf = KFold(n_splits=5, shuffle=True, random_state=56)\n",
    "\n",
    "# TF-IDF vectorizer and stop words\n",
    "\n",
    "stop_words = ENGLISH_STOP_WORDS\n",
    "tfidf = TfidfVectorizer(stop_words=stop_words, min_df=2, \n",
    "                        max_df=0.45, ngram_range=(1, 2))\n",
    "\n",
    "# SVM\n",
    "\n",
    "svm = LinearSVC()"
   ]
  },
  {
   "cell_type": "code",
   "execution_count": 521,
   "metadata": {},
   "outputs": [],
   "source": [
    "X = df['Content'].to_dense().values\n",
    "y = df['Label'].to_dense().values"
   ]
  },
  {
   "cell_type": "code",
   "execution_count": 522,
   "metadata": {},
   "outputs": [
    {
     "name": "stdout",
     "output_type": "stream",
     "text": [
      "Evaluation of classifier finished in 108.43 s \n",
      "Average accuracy: 89.69 % \n",
      "Average precision: 89.71 % \n",
      "Average recall: 89.69 % \n",
      "Average f-measure: 89.69 % \n",
      "\n"
     ]
    }
   ],
   "source": [
    "# SVM - BoW\n",
    "\n",
    "evaluate_classifier(svm, kf, X, y, tfidf)"
   ]
  },
  {
   "cell_type": "markdown",
   "metadata": {},
   "source": [
    "## Deep neural network method"
   ]
  },
  {
   "cell_type": "code",
   "execution_count": 571,
   "metadata": {},
   "outputs": [],
   "source": [
    "def evaluate_neural_net(kfold, X, y, vectorizer):\n",
    "    i = 1\n",
    "    metrics = np.zeros(4)\n",
    "    start = timer()\n",
    "    for train, cv in kfold.split(X, y):\n",
    "        X_train, X_cv = X[train], X[cv]\n",
    "        y_train, y_cv = y[train], y[cv]\n",
    "        vectorizer.fit(X_train)\n",
    "        X_train_vec = vectorizer.transform(X_train)\n",
    "        input_shape = X_train_vec.shape[1:]\n",
    "        model, early_stopping, model_checkpoint = build_model(input_shape, i)\n",
    "        history = model.fit(X_train_vec, y_train,\n",
    "                            batch_size=256, epochs=80, \n",
    "                            callbacks=[early_stopping, \n",
    "                                       model_checkpoint],\n",
    "                            verbose=1, validation_split=0.10)\n",
    "        final_model = keras.models.load_model('imdb_sentiment_{}.h5'.format(i))\n",
    "        X_cv_vec = vectorizer.transform(X_cv)\n",
    "        prediction = final_model.predict(X_cv_vec)\n",
    "        y_pred = (prediction > 0.5)\n",
    "        y_pred = y_pred * 1\n",
    "        metrics = get_metrics(y_cv, y_pred, metrics)\n",
    "        i += 1\n",
    "    dt = timer() - start\n",
    "    metrics = metrics * 100 / 5\n",
    "    print('Evaluation of classifier finished in {:.2f} s \\n'\n",
    "          'Average accuracy: {:.2f} % \\n'\n",
    "          'Average precision: {:.2f} % \\n'\n",
    "          'Average recall: {:.2f} % \\n'\n",
    "          'Average f-measure: {:.2f} % \\n'\n",
    "          .format(dt, metrics[0], metrics[1],\n",
    "                  metrics[2], metrics[3]))\n",
    "    \n",
    "    return history"
   ]
  },
  {
   "cell_type": "code",
   "execution_count": 572,
   "metadata": {},
   "outputs": [],
   "source": [
    "def build_model(input_shape, i):\n",
    "    \n",
    "    keras.backend.clear_session()\n",
    "    model = keras.Sequential([\n",
    "        keras.layers.Dropout(0.25, input_shape=input_shape),\n",
    "        keras.layers.Dense(96, activation='relu'),\n",
    "        keras.layers.Dropout(0.9),\n",
    "        keras.layers.Dense(64, activation='relu'),\n",
    "        keras.layers.Dropout(0.85),\n",
    "        keras.layers.Dense(1, activation='sigmoid')\n",
    "    ])\n",
    "\n",
    "    early_stopping = keras.callbacks.EarlyStopping(patience=3)\n",
    "    model_checkpoint = keras.callbacks.ModelCheckpoint(\n",
    "                       'imdb_sentiment_{}.h5'.format(i), save_best_only=True)\n",
    "    optimizer = keras.optimizers.Adam(lr=0.005, amsgrad=True)\n",
    "    model.compile(optimizer=optimizer,\n",
    "                  loss='binary_crossentropy',\n",
    "                  metrics=['accuracy'])\n",
    "    \n",
    "    return model, early_stopping, model_checkpoint"
   ]
  },
  {
   "cell_type": "code",
   "execution_count": 573,
   "metadata": {},
   "outputs": [],
   "source": [
    "X = df['Content'].values\n",
    "y = df['Label'].values"
   ]
  },
  {
   "cell_type": "code",
   "execution_count": 574,
   "metadata": {},
   "outputs": [],
   "source": [
    "# 5-Fold cross-validation\n",
    "\n",
    "kf = KFold(n_splits=5, shuffle=True, random_state=56)\n",
    "\n",
    "# TF-IDF vectorizer and stop words\n",
    "\n",
    "stop_words = ENGLISH_STOP_WORDS\n",
    "tfidf = TfidfVectorizer(stop_words=stop_words, min_df=2, \n",
    "                        max_df=0.45, ngram_range=(1, 2))"
   ]
  },
  {
   "cell_type": "code",
   "execution_count": 575,
   "metadata": {},
   "outputs": [
    {
     "name": "stdout",
     "output_type": "stream",
     "text": [
      "Train on 17930 samples, validate on 1993 samples\n",
      "Epoch 1/80\n",
      "17930/17930 [==============================] - 33s 2ms/sample - loss: 0.6476 - accuracy: 0.5909 - val_loss: 0.4629 - val_accuracy: 0.8545\n",
      "Epoch 2/80\n",
      "17930/17930 [==============================] - 26s 1ms/sample - loss: 0.5300 - accuracy: 0.7279 - val_loss: 0.3799 - val_accuracy: 0.8796\n",
      "Epoch 3/80\n",
      "17930/17930 [==============================] - 26s 1ms/sample - loss: 0.4565 - accuracy: 0.7800 - val_loss: 0.3257 - val_accuracy: 0.8826\n",
      "Epoch 4/80\n",
      "17930/17930 [==============================] - 25s 1ms/sample - loss: 0.4228 - accuracy: 0.8083 - val_loss: 0.3194 - val_accuracy: 0.8881\n",
      "Epoch 5/80\n",
      "17930/17930 [==============================] - 25s 1ms/sample - loss: 0.3899 - accuracy: 0.8200 - val_loss: 0.2893 - val_accuracy: 0.8861\n",
      "Epoch 6/80\n",
      "17930/17930 [==============================] - 24s 1ms/sample - loss: 0.3627 - accuracy: 0.8404 - val_loss: 0.2820 - val_accuracy: 0.8871\n",
      "Epoch 7/80\n",
      "17930/17930 [==============================] - 24s 1ms/sample - loss: 0.3346 - accuracy: 0.8547 - val_loss: 0.2731 - val_accuracy: 0.8946\n",
      "Epoch 8/80\n",
      "17930/17930 [==============================] - 24s 1ms/sample - loss: 0.3134 - accuracy: 0.8607 - val_loss: 0.2635 - val_accuracy: 0.8961\n",
      "Epoch 9/80\n",
      "17930/17930 [==============================] - 25s 1ms/sample - loss: 0.3023 - accuracy: 0.8673 - val_loss: 0.2548 - val_accuracy: 0.8966\n",
      "Epoch 10/80\n",
      "17930/17930 [==============================] - 25s 1ms/sample - loss: 0.2855 - accuracy: 0.8738 - val_loss: 0.2568 - val_accuracy: 0.8951\n",
      "Epoch 11/80\n",
      "17930/17930 [==============================] - 25s 1ms/sample - loss: 0.2664 - accuracy: 0.8843 - val_loss: 0.2544 - val_accuracy: 0.8931\n",
      "Epoch 12/80\n",
      "17930/17930 [==============================] - 24s 1ms/sample - loss: 0.2557 - accuracy: 0.8877 - val_loss: 0.2486 - val_accuracy: 0.8976\n",
      "Epoch 13/80\n",
      "17930/17930 [==============================] - 24s 1ms/sample - loss: 0.2575 - accuracy: 0.8845 - val_loss: 0.2578 - val_accuracy: 0.8966\n",
      "Epoch 14/80\n",
      "17930/17930 [==============================] - 24s 1ms/sample - loss: 0.2490 - accuracy: 0.8916 - val_loss: 0.2481 - val_accuracy: 0.8986\n",
      "Epoch 15/80\n",
      "17930/17930 [==============================] - 25s 1ms/sample - loss: 0.2352 - accuracy: 0.8948 - val_loss: 0.2469 - val_accuracy: 0.8956\n",
      "Epoch 16/80\n",
      "17930/17930 [==============================] - 23s 1ms/sample - loss: 0.2237 - accuracy: 0.9026 - val_loss: 0.2496 - val_accuracy: 0.8961\n",
      "Epoch 17/80\n",
      "17930/17930 [==============================] - 22s 1ms/sample - loss: 0.2250 - accuracy: 0.8989 - val_loss: 0.2487 - val_accuracy: 0.8931\n",
      "Epoch 18/80\n",
      "17930/17930 [==============================] - 21s 1ms/sample - loss: 0.2153 - accuracy: 0.9026 - val_loss: 0.2507 - val_accuracy: 0.8951\n",
      "Train on 17930 samples, validate on 1993 samples\n",
      "Epoch 1/80\n",
      "17930/17930 [==============================] - 28s 2ms/sample - loss: 0.6518 - accuracy: 0.6027 - val_loss: 0.4704 - val_accuracy: 0.8600\n",
      "Epoch 2/80\n",
      "17930/17930 [==============================] - 22s 1ms/sample - loss: 0.5398 - accuracy: 0.7431 - val_loss: 0.4132 - val_accuracy: 0.8690\n",
      "Epoch 3/80\n",
      "17930/17930 [==============================] - 22s 1ms/sample - loss: 0.4684 - accuracy: 0.7901 - val_loss: 0.3275 - val_accuracy: 0.8856\n",
      "Epoch 4/80\n",
      "17930/17930 [==============================] - 22s 1ms/sample - loss: 0.4251 - accuracy: 0.8161 - val_loss: 0.3189 - val_accuracy: 0.8851\n",
      "Epoch 5/80\n",
      "17930/17930 [==============================] - 22s 1ms/sample - loss: 0.3918 - accuracy: 0.8317 - val_loss: 0.3107 - val_accuracy: 0.8776\n",
      "Epoch 6/80\n",
      "17930/17930 [==============================] - 22s 1ms/sample - loss: 0.3626 - accuracy: 0.8501 - val_loss: 0.2877 - val_accuracy: 0.8871\n",
      "Epoch 7/80\n",
      "17930/17930 [==============================] - 22s 1ms/sample - loss: 0.3507 - accuracy: 0.8571 - val_loss: 0.2861 - val_accuracy: 0.8841\n",
      "Epoch 8/80\n",
      "17930/17930 [==============================] - 22s 1ms/sample - loss: 0.3287 - accuracy: 0.8660 - val_loss: 0.2767 - val_accuracy: 0.8851\n",
      "Epoch 9/80\n",
      "17930/17930 [==============================] - 22s 1ms/sample - loss: 0.3114 - accuracy: 0.8743 - val_loss: 0.2644 - val_accuracy: 0.8901\n",
      "Epoch 10/80\n",
      "17930/17930 [==============================] - 21s 1ms/sample - loss: 0.3012 - accuracy: 0.8782 - val_loss: 0.2679 - val_accuracy: 0.8916\n",
      "Epoch 11/80\n",
      "17930/17930 [==============================] - 21s 1ms/sample - loss: 0.2810 - accuracy: 0.8915 - val_loss: 0.2649 - val_accuracy: 0.8926\n",
      "Epoch 12/80\n",
      "17930/17930 [==============================] - 22s 1ms/sample - loss: 0.2727 - accuracy: 0.8935 - val_loss: 0.2610 - val_accuracy: 0.8951\n",
      "Epoch 13/80\n",
      "17930/17930 [==============================] - 21s 1ms/sample - loss: 0.2703 - accuracy: 0.8953 - val_loss: 0.2668 - val_accuracy: 0.8851\n",
      "Epoch 14/80\n",
      "17930/17930 [==============================] - 22s 1ms/sample - loss: 0.2626 - accuracy: 0.8988 - val_loss: 0.2591 - val_accuracy: 0.8896\n",
      "Epoch 15/80\n",
      "17930/17930 [==============================] - 21s 1ms/sample - loss: 0.2512 - accuracy: 0.9031 - val_loss: 0.2615 - val_accuracy: 0.8871\n",
      "Epoch 16/80\n",
      "17930/17930 [==============================] - 21s 1ms/sample - loss: 0.2477 - accuracy: 0.9059 - val_loss: 0.2617 - val_accuracy: 0.8901\n",
      "Epoch 17/80\n",
      "17930/17930 [==============================] - 21s 1ms/sample - loss: 0.2351 - accuracy: 0.9121 - val_loss: 0.2605 - val_accuracy: 0.8896\n",
      "Train on 17930 samples, validate on 1993 samples\n",
      "Epoch 1/80\n",
      "17930/17930 [==============================] - 28s 2ms/sample - loss: 0.6473 - accuracy: 0.6022 - val_loss: 0.4547 - val_accuracy: 0.8555\n",
      "Epoch 2/80\n",
      "17930/17930 [==============================] - 24s 1ms/sample - loss: 0.5261 - accuracy: 0.7535 - val_loss: 0.3567 - val_accuracy: 0.8716\n",
      "Epoch 3/80\n",
      "17930/17930 [==============================] - 23s 1ms/sample - loss: 0.4568 - accuracy: 0.7908 - val_loss: 0.3232 - val_accuracy: 0.8781\n",
      "Epoch 4/80\n",
      "17930/17930 [==============================] - 22s 1ms/sample - loss: 0.4072 - accuracy: 0.8237 - val_loss: 0.2894 - val_accuracy: 0.8886\n",
      "Epoch 5/80\n",
      "17930/17930 [==============================] - 21s 1ms/sample - loss: 0.3786 - accuracy: 0.8351 - val_loss: 0.2812 - val_accuracy: 0.8901\n",
      "Epoch 6/80\n",
      "17930/17930 [==============================] - 21s 1ms/sample - loss: 0.3548 - accuracy: 0.8495 - val_loss: 0.2836 - val_accuracy: 0.8866\n",
      "Epoch 7/80\n",
      "17930/17930 [==============================] - 22s 1ms/sample - loss: 0.3265 - accuracy: 0.8665 - val_loss: 0.2674 - val_accuracy: 0.8911\n",
      "Epoch 8/80\n",
      "17930/17930 [==============================] - 23s 1ms/sample - loss: 0.3051 - accuracy: 0.8760 - val_loss: 0.2670 - val_accuracy: 0.8906\n",
      "Epoch 9/80\n",
      "17930/17930 [==============================] - 23s 1ms/sample - loss: 0.2875 - accuracy: 0.8831 - val_loss: 0.2582 - val_accuracy: 0.8906\n",
      "Epoch 10/80\n",
      "17930/17930 [==============================] - 22s 1ms/sample - loss: 0.2814 - accuracy: 0.8862 - val_loss: 0.2613 - val_accuracy: 0.8906\n",
      "Epoch 11/80\n",
      "17930/17930 [==============================] - 22s 1ms/sample - loss: 0.2680 - accuracy: 0.8954 - val_loss: 0.2623 - val_accuracy: 0.8896\n",
      "Epoch 12/80\n",
      "17930/17930 [==============================] - 23s 1ms/sample - loss: 0.2559 - accuracy: 0.8968 - val_loss: 0.2581 - val_accuracy: 0.8881\n",
      "Epoch 13/80\n",
      "17930/17930 [==============================] - 22s 1ms/sample - loss: 0.2458 - accuracy: 0.9007 - val_loss: 0.2619 - val_accuracy: 0.8866\n",
      "Epoch 14/80\n",
      "17930/17930 [==============================] - 21s 1ms/sample - loss: 0.2348 - accuracy: 0.9074 - val_loss: 0.2596 - val_accuracy: 0.8886\n",
      "Epoch 15/80\n",
      "17930/17930 [==============================] - 22s 1ms/sample - loss: 0.2286 - accuracy: 0.9093 - val_loss: 0.2600 - val_accuracy: 0.8836\n",
      "Train on 17930 samples, validate on 1993 samples\n",
      "Epoch 1/80\n",
      "17930/17930 [==============================] - 29s 2ms/sample - loss: 0.6479 - accuracy: 0.5924 - val_loss: 0.4579 - val_accuracy: 0.8555\n",
      "Epoch 2/80\n",
      "17930/17930 [==============================] - 24s 1ms/sample - loss: 0.5270 - accuracy: 0.7363 - val_loss: 0.3742 - val_accuracy: 0.8821\n",
      "Epoch 3/80\n",
      "17930/17930 [==============================] - 25s 1ms/sample - loss: 0.4583 - accuracy: 0.7891 - val_loss: 0.3329 - val_accuracy: 0.8901\n",
      "Epoch 4/80\n"
     ]
    },
    {
     "name": "stdout",
     "output_type": "stream",
     "text": [
      "17930/17930 [==============================] - 22s 1ms/sample - loss: 0.4113 - accuracy: 0.8139 - val_loss: 0.2927 - val_accuracy: 0.8921\n",
      "Epoch 5/80\n",
      "17930/17930 [==============================] - 24s 1ms/sample - loss: 0.3755 - accuracy: 0.8288 - val_loss: 0.2900 - val_accuracy: 0.8916\n",
      "Epoch 6/80\n",
      "17930/17930 [==============================] - 24s 1ms/sample - loss: 0.3473 - accuracy: 0.8448 - val_loss: 0.2729 - val_accuracy: 0.9027\n",
      "Epoch 7/80\n",
      "17930/17930 [==============================] - 24s 1ms/sample - loss: 0.3346 - accuracy: 0.8511 - val_loss: 0.2627 - val_accuracy: 0.9027\n",
      "Epoch 8/80\n",
      "17930/17930 [==============================] - 22s 1ms/sample - loss: 0.3144 - accuracy: 0.8599 - val_loss: 0.2638 - val_accuracy: 0.8951\n",
      "Epoch 9/80\n",
      "17930/17930 [==============================] - 23s 1ms/sample - loss: 0.2874 - accuracy: 0.8715 - val_loss: 0.2547 - val_accuracy: 0.9042\n",
      "Epoch 10/80\n",
      "17930/17930 [==============================] - 21s 1ms/sample - loss: 0.2793 - accuracy: 0.8723 - val_loss: 0.2561 - val_accuracy: 0.9007\n",
      "Epoch 11/80\n",
      "17930/17930 [==============================] - 22s 1ms/sample - loss: 0.2810 - accuracy: 0.8793 - val_loss: 0.2547 - val_accuracy: 0.9027\n",
      "Epoch 12/80\n",
      "17930/17930 [==============================] - 23s 1ms/sample - loss: 0.2609 - accuracy: 0.8824 - val_loss: 0.2521 - val_accuracy: 0.9047\n",
      "Epoch 13/80\n",
      "17930/17930 [==============================] - 23s 1ms/sample - loss: 0.2551 - accuracy: 0.8856 - val_loss: 0.2520 - val_accuracy: 0.9032\n",
      "Epoch 14/80\n",
      "17930/17930 [==============================] - 22s 1ms/sample - loss: 0.2404 - accuracy: 0.8914 - val_loss: 0.2536 - val_accuracy: 0.8936\n",
      "Epoch 15/80\n",
      "17930/17930 [==============================] - 23s 1ms/sample - loss: 0.2357 - accuracy: 0.8934 - val_loss: 0.2517 - val_accuracy: 0.9007\n",
      "Epoch 16/80\n",
      "17930/17930 [==============================] - 23s 1ms/sample - loss: 0.2344 - accuracy: 0.8956 - val_loss: 0.2506 - val_accuracy: 0.9082\n",
      "Epoch 17/80\n",
      "17930/17930 [==============================] - 21s 1ms/sample - loss: 0.2231 - accuracy: 0.8993 - val_loss: 0.2530 - val_accuracy: 0.9087\n",
      "Epoch 18/80\n",
      "17930/17930 [==============================] - 22s 1ms/sample - loss: 0.2222 - accuracy: 0.9018 - val_loss: 0.2544 - val_accuracy: 0.9062\n",
      "Epoch 19/80\n",
      "17930/17930 [==============================] - 22s 1ms/sample - loss: 0.2114 - accuracy: 0.9058 - val_loss: 0.2564 - val_accuracy: 0.9037\n",
      "Train on 17931 samples, validate on 1993 samples\n",
      "Epoch 1/80\n",
      "17931/17931 [==============================] - 29s 2ms/sample - loss: 0.6474 - accuracy: 0.5966 - val_loss: 0.4507 - val_accuracy: 0.8259\n",
      "Epoch 2/80\n",
      "17931/17931 [==============================] - 24s 1ms/sample - loss: 0.5274 - accuracy: 0.7313 - val_loss: 0.3693 - val_accuracy: 0.8721\n",
      "Epoch 3/80\n",
      "17931/17931 [==============================] - 23s 1ms/sample - loss: 0.4600 - accuracy: 0.7758 - val_loss: 0.3274 - val_accuracy: 0.8741\n",
      "Epoch 4/80\n",
      "17931/17931 [==============================] - 23s 1ms/sample - loss: 0.4107 - accuracy: 0.8058 - val_loss: 0.3078 - val_accuracy: 0.8705\n",
      "Epoch 5/80\n",
      "17931/17931 [==============================] - 23s 1ms/sample - loss: 0.3755 - accuracy: 0.8242 - val_loss: 0.2835 - val_accuracy: 0.8856\n",
      "Epoch 6/80\n",
      "17931/17931 [==============================] - 22s 1ms/sample - loss: 0.3598 - accuracy: 0.8362 - val_loss: 0.2798 - val_accuracy: 0.8861\n",
      "Epoch 7/80\n",
      "17931/17931 [==============================] - 23s 1ms/sample - loss: 0.3347 - accuracy: 0.8476 - val_loss: 0.2786 - val_accuracy: 0.8891\n",
      "Epoch 8/80\n",
      "17931/17931 [==============================] - 22s 1ms/sample - loss: 0.3150 - accuracy: 0.8562 - val_loss: 0.2820 - val_accuracy: 0.8821\n",
      "Epoch 9/80\n",
      "17931/17931 [==============================] - 23s 1ms/sample - loss: 0.3076 - accuracy: 0.8607 - val_loss: 0.2689 - val_accuracy: 0.8921\n",
      "Epoch 10/80\n",
      "17931/17931 [==============================] - 22s 1ms/sample - loss: 0.2837 - accuracy: 0.8692 - val_loss: 0.2668 - val_accuracy: 0.8911\n",
      "Epoch 11/80\n",
      "17931/17931 [==============================] - 22s 1ms/sample - loss: 0.2701 - accuracy: 0.8737 - val_loss: 0.2644 - val_accuracy: 0.8896\n",
      "Epoch 12/80\n",
      "17931/17931 [==============================] - 22s 1ms/sample - loss: 0.2571 - accuracy: 0.8780 - val_loss: 0.2710 - val_accuracy: 0.8836\n",
      "Epoch 13/80\n",
      "17931/17931 [==============================] - 22s 1ms/sample - loss: 0.2550 - accuracy: 0.8785 - val_loss: 0.2666 - val_accuracy: 0.8886\n",
      "Epoch 14/80\n",
      "17931/17931 [==============================] - 23s 1ms/sample - loss: 0.2500 - accuracy: 0.8800 - val_loss: 0.2629 - val_accuracy: 0.8916\n",
      "Epoch 15/80\n",
      "17931/17931 [==============================] - 22s 1ms/sample - loss: 0.2437 - accuracy: 0.8835 - val_loss: 0.2638 - val_accuracy: 0.8881\n",
      "Epoch 16/80\n",
      "17931/17931 [==============================] - 22s 1ms/sample - loss: 0.2303 - accuracy: 0.8928 - val_loss: 0.2672 - val_accuracy: 0.8896\n",
      "Epoch 17/80\n",
      "17931/17931 [==============================] - 22s 1ms/sample - loss: 0.2244 - accuracy: 0.8904 - val_loss: 0.2644 - val_accuracy: 0.8921\n",
      "Evaluation of classifier finished in 2107.27 s \n",
      "Average accuracy: 89.52 % \n",
      "Average precision: 89.75 % \n",
      "Average recall: 89.49 % \n",
      "Average f-measure: 89.49 % \n",
      "\n"
     ]
    }
   ],
   "source": [
    "history = evaluate_neural_net(kf, X, y, tfidf)"
   ]
  },
  {
   "cell_type": "code",
   "execution_count": 576,
   "metadata": {},
   "outputs": [
    {
     "ename": "NameError",
     "evalue": "name 'history' is not defined",
     "output_type": "error",
     "traceback": [
      "\u001b[0;31m---------------------------------------------------------------------------\u001b[0m",
      "\u001b[0;31mNameError\u001b[0m                                 Traceback (most recent call last)",
      "\u001b[0;32m<ipython-input-576-768687276a51>\u001b[0m in \u001b[0;36m<module>\u001b[0;34m\u001b[0m\n\u001b[1;32m      1\u001b[0m \u001b[0;31m# Evaluate train and validation accuracies and losses\u001b[0m\u001b[0;34m\u001b[0m\u001b[0;34m\u001b[0m\u001b[0;34m\u001b[0m\u001b[0m\n\u001b[1;32m      2\u001b[0m \u001b[0;34m\u001b[0m\u001b[0m\n\u001b[0;32m----> 3\u001b[0;31m \u001b[0mtrain_acc\u001b[0m \u001b[0;34m=\u001b[0m \u001b[0mhistory\u001b[0m\u001b[0;34m.\u001b[0m\u001b[0mhistory\u001b[0m\u001b[0;34m[\u001b[0m\u001b[0;34m'accuracy'\u001b[0m\u001b[0;34m]\u001b[0m\u001b[0;34m\u001b[0m\u001b[0;34m\u001b[0m\u001b[0m\n\u001b[0m\u001b[1;32m      4\u001b[0m \u001b[0mval_acc\u001b[0m \u001b[0;34m=\u001b[0m \u001b[0mhistory\u001b[0m\u001b[0;34m.\u001b[0m\u001b[0mhistory\u001b[0m\u001b[0;34m[\u001b[0m\u001b[0;34m'val_accuracy'\u001b[0m\u001b[0;34m]\u001b[0m\u001b[0;34m\u001b[0m\u001b[0;34m\u001b[0m\u001b[0m\n\u001b[1;32m      5\u001b[0m \u001b[0;34m\u001b[0m\u001b[0m\n",
      "\u001b[0;31mNameError\u001b[0m: name 'history' is not defined"
     ]
    }
   ],
   "source": [
    "# Evaluate train and validation accuracies and losses\n",
    "\n",
    "train_acc = history.history['accuracy']\n",
    "val_acc = history.history['val_accuracy']\n",
    "\n",
    "train_loss = history.history['loss']\n",
    "val_loss = history.history['val_loss']\n",
    "\n",
    "# Visualize epochs vs. train and validation accuracies and losses\n",
    "\n",
    "plt.figure(figsize=(20, 10))\n",
    "\n",
    "plt.subplot(1, 2, 1)\n",
    "plt.plot(train_acc, label='Training Accuracy')\n",
    "plt.plot(val_acc, label='Validation Accuracy')\n",
    "plt.legend()\n",
    "plt.title('Epochs vs. Training and Validation Accuracy')\n",
    "    \n",
    "plt.subplot(1, 2, 2)\n",
    "plt.plot(train_loss, label='Training Loss')\n",
    "plt.plot(val_loss, label='Validation Loss')\n",
    "plt.legend()\n",
    "plt.title('Epochs vs. Training and Validation Loss')\n",
    "\n",
    "plt.show()"
   ]
  },
  {
   "cell_type": "code",
   "execution_count": 580,
   "metadata": {},
   "outputs": [
    {
     "name": "stdout",
     "output_type": "stream",
     "text": [
      "Failed to import pydot. You must install pydot and graphviz for `pydotprint` to work.\n"
     ]
    }
   ],
   "source": [
    "# Visualize the architecture of the model\n",
    "\n",
    "model = build_model(input_shape, 1)\n",
    "keras.utils.plot_model(model, to_file='model_plot.png', show_shapes=True, \n",
    "                       show_layer_names=True, rankdir='LR')"
   ]
  },
  {
   "cell_type": "markdown",
   "metadata": {},
   "source": [
    "## Deliverable for competition"
   ]
  },
  {
   "cell_type": "code",
   "execution_count": 53,
   "metadata": {},
   "outputs": [],
   "source": [
    "df_test = pd.read_csv('test_without_labels.csv')"
   ]
  },
  {
   "cell_type": "code",
   "execution_count": 54,
   "metadata": {},
   "outputs": [],
   "source": [
    "X_final = df_test['Content'].values"
   ]
  },
  {
   "cell_type": "code",
   "execution_count": 61,
   "metadata": {},
   "outputs": [],
   "source": [
    "tfidf.fit(X)\n",
    "X_train_vec = tfidf.transform(X)\n",
    "input_shape = X_train_vec.shape[1:]\n",
    "\n",
    "keras.backend.clear_session()\n",
    "\n",
    "model = keras.Sequential([\n",
    "    keras.layers.Dropout(0.25, input_shape=input_shape),\n",
    "    keras.layers.Dense(128, activation='relu'),\n",
    "    keras.layers.Dropout(0.9),\n",
    "    keras.layers.Dense(64, activation='relu'),\n",
    "    keras.layers.Dropout(0.85),\n",
    "    keras.layers.Dense(1, activation='sigmoid')\n",
    "])\n",
    "\n",
    "early_stopping = keras.callbacks.EarlyStopping(patience=5)\n",
    "model_checkpoint = keras.callbacks.ModelCheckpoint(\n",
    "                   \"imdb_sentiment.h5\", save_best_only=True)\n",
    "reduce_lr = keras.callbacks.ReduceLROnPlateau(factor=0.7, patience=3)\n",
    "optimizer = keras.optimizers.Adam(lr=1e-2, amsgrad=True)\n",
    "model.compile(optimizer=optimizer,\n",
    "              loss='binary_crossentropy',\n",
    "              metrics=['accuracy'])"
   ]
  },
  {
   "cell_type": "code",
   "execution_count": 62,
   "metadata": {
    "scrolled": true
   },
   "outputs": [
    {
     "name": "stdout",
     "output_type": "stream",
     "text": [
      "Train on 21250 samples, validate on 3750 samples\n",
      "Epoch 1/80\n",
      "21250/21250 [==============================] - 24s 1ms/sample - loss: 0.6268 - accuracy: 0.6173 - val_loss: 0.4106 - val_accuracy: 0.8736\n",
      "Epoch 2/80\n",
      "21250/21250 [==============================] - 19s 879us/sample - loss: 0.4924 - accuracy: 0.7607 - val_loss: 0.3294 - val_accuracy: 0.8901\n",
      "Epoch 3/80\n",
      "21250/21250 [==============================] - 19s 884us/sample - loss: 0.4349 - accuracy: 0.8056 - val_loss: 0.3001 - val_accuracy: 0.8987\n",
      "Epoch 4/80\n",
      "21250/21250 [==============================] - 19s 872us/sample - loss: 0.3815 - accuracy: 0.8316 - val_loss: 0.2712 - val_accuracy: 0.9003\n",
      "Epoch 5/80\n",
      "21250/21250 [==============================] - 19s 875us/sample - loss: 0.3635 - accuracy: 0.8457 - val_loss: 0.2644 - val_accuracy: 0.9003\n",
      "Epoch 6/80\n",
      "21250/21250 [==============================] - 19s 874us/sample - loss: 0.3236 - accuracy: 0.8606 - val_loss: 0.2508 - val_accuracy: 0.9037\n",
      "Epoch 7/80\n",
      "21250/21250 [==============================] - 19s 877us/sample - loss: 0.3092 - accuracy: 0.8689 - val_loss: 0.2441 - val_accuracy: 0.9019\n",
      "Epoch 8/80\n",
      "21250/21250 [==============================] - 18s 870us/sample - loss: 0.2878 - accuracy: 0.8818 - val_loss: 0.2389 - val_accuracy: 0.9016\n",
      "Epoch 9/80\n",
      "21250/21250 [==============================] - 19s 876us/sample - loss: 0.2743 - accuracy: 0.8881 - val_loss: 0.2384 - val_accuracy: 0.9011\n",
      "Epoch 10/80\n",
      "21250/21250 [==============================] - 19s 880us/sample - loss: 0.2552 - accuracy: 0.8941 - val_loss: 0.2352 - val_accuracy: 0.9008\n",
      "Epoch 11/80\n",
      "21250/21250 [==============================] - 18s 843us/sample - loss: 0.2470 - accuracy: 0.9000 - val_loss: 0.2362 - val_accuracy: 0.9003\n",
      "Epoch 12/80\n",
      "21250/21250 [==============================] - 18s 854us/sample - loss: 0.2426 - accuracy: 0.9019 - val_loss: 0.2353 - val_accuracy: 0.9032\n",
      "Epoch 13/80\n",
      "21250/21250 [==============================] - 18s 842us/sample - loss: 0.2279 - accuracy: 0.9073 - val_loss: 0.2353 - val_accuracy: 0.9035\n",
      "Epoch 14/80\n",
      "21250/21250 [==============================] - 19s 882us/sample - loss: 0.2221 - accuracy: 0.9096 - val_loss: 0.2333 - val_accuracy: 0.9037\n",
      "Epoch 15/80\n",
      "21250/21250 [==============================] - 18s 843us/sample - loss: 0.2115 - accuracy: 0.9140 - val_loss: 0.2348 - val_accuracy: 0.9051\n",
      "Epoch 16/80\n",
      "21250/21250 [==============================] - 18s 843us/sample - loss: 0.2099 - accuracy: 0.9144 - val_loss: 0.2344 - val_accuracy: 0.9051\n",
      "Epoch 17/80\n",
      "21250/21250 [==============================] - 18s 857us/sample - loss: 0.1949 - accuracy: 0.9211 - val_loss: 0.2396 - val_accuracy: 0.9056\n",
      "Epoch 18/80\n",
      "21250/21250 [==============================] - 18s 850us/sample - loss: 0.1978 - accuracy: 0.9185 - val_loss: 0.2359 - val_accuracy: 0.9045\n",
      "Epoch 19/80\n",
      "21250/21250 [==============================] - 18s 848us/sample - loss: 0.1827 - accuracy: 0.9248 - val_loss: 0.2429 - val_accuracy: 0.9051\n",
      "Epoch 20/80\n",
      "21250/21250 [==============================] - 18s 863us/sample - loss: 0.1811 - accuracy: 0.9264 - val_loss: 0.2418 - val_accuracy: 0.9051\n",
      "Epoch 21/80\n",
      "21250/21250 [==============================] - 18s 843us/sample - loss: 0.1743 - accuracy: 0.9300 - val_loss: 0.2416 - val_accuracy: 0.9040\n",
      "Epoch 22/80\n",
      "21250/21250 [==============================] - 18s 841us/sample - loss: 0.1718 - accuracy: 0.9289 - val_loss: 0.2426 - val_accuracy: 0.9037\n",
      "Epoch 23/80\n",
      "21250/21250 [==============================] - 18s 855us/sample - loss: 0.1689 - accuracy: 0.9287 - val_loss: 0.2414 - val_accuracy: 0.9040\n",
      "Epoch 24/80\n",
      "21250/21250 [==============================] - 18s 847us/sample - loss: 0.1548 - accuracy: 0.9338 - val_loss: 0.2523 - val_accuracy: 0.9037\n"
     ]
    },
    {
     "data": {
      "text/plain": [
       "<tensorflow.python.keras.callbacks.History at 0x7ff5f04d8c50>"
      ]
     },
     "execution_count": 62,
     "metadata": {},
     "output_type": "execute_result"
    }
   ],
   "source": [
    "model.fit(X_train_vec, y,\n",
    "          batch_size=256, epochs=80, \n",
    "          callbacks=[early_stopping, \n",
    "                     model_checkpoint,\n",
    "                     reduce_lr],\n",
    "          validation_split=0.20)"
   ]
  },
  {
   "cell_type": "code",
   "execution_count": 75,
   "metadata": {},
   "outputs": [],
   "source": [
    "X_test_vec = tfidf.transform(X_final)\n",
    "final_model = keras.models.load_model('imdb_sentiment.h5')\n",
    "prediction = final_model.predict(X_test_vec)\n",
    "y_pred = (prediction > 0.5)"
   ]
  },
  {
   "cell_type": "code",
   "execution_count": 76,
   "metadata": {},
   "outputs": [],
   "source": [
    "y_pred = y_pred * 1"
   ]
  },
  {
   "cell_type": "code",
   "execution_count": 77,
   "metadata": {},
   "outputs": [],
   "source": [
    "df_results = pd.DataFrame({'Id':df_test['Id'], 'Predicted':y_pred[:, 0]})"
   ]
  },
  {
   "cell_type": "code",
   "execution_count": 78,
   "metadata": {},
   "outputs": [],
   "source": [
    "df_results.to_csv('sentiment_predictions.csv',index=False, header=True)"
   ]
  },
  {
   "cell_type": "code",
   "execution_count": null,
   "metadata": {},
   "outputs": [],
   "source": []
  },
  {
   "cell_type": "markdown",
   "metadata": {},
   "source": [
    "## Proposed method"
   ]
  },
  {
   "cell_type": "code",
   "execution_count": 413,
   "metadata": {},
   "outputs": [],
   "source": [
    "X_enh = df['Content'].to_dense().values\n",
    "y_enh = df['Label'].to_dense().values"
   ]
  },
  {
   "cell_type": "code",
   "execution_count": 414,
   "metadata": {},
   "outputs": [],
   "source": [
    "X_train_cv, X_test, y_train_cv, y_test = train_test_split(X, y, test_size=0.20, shuffle=True)"
   ]
  },
  {
   "cell_type": "code",
   "execution_count": 456,
   "metadata": {},
   "outputs": [],
   "source": [
    "svm = LinearSVC(C=0.85, tol=1e-05, max_iter=1500)\n",
    "ridge = RidgeClassifier(alpha=1.1, tol=1e-5, normalize=True)\n",
    "ridge_2 = RidgeClassifier(alpha=1.1, tol=1e-5)\n",
    "ridge_3 = RidgeClassifier(alpha=1.15, tol=1e-5)\n",
    "pas_agr = PassiveAggressiveClassifier(C=0.85, early_stopping=True, tol=1e-5,\n",
    "                                      loss='squared_hinge', n_jobs=-1)\n",
    "pas_agr_2 = PassiveAggressiveClassifier(C=0.8, early_stopping=True, tol=1e-5,\n",
    "                                        loss='squared_hinge', n_jobs=-1)\n",
    "pas_agr_3 = PassiveAggressiveClassifier(C=0.75, early_stopping=True, tol=1e-5,\n",
    "                                        loss='squared_hinge', n_jobs=-1)\n",
    "sgd = SGDClassifier(early_stopping=True, tol=1e-5, max_iter=1500,\n",
    "                    loss='modified_huber', penalty='elasticnet',\n",
    "                    l1_ratio=0.05, n_jobs=-1)\n",
    "sgd_2 = SGDClassifier(early_stopping=True, tol=1e-5, max_iter=1500,\n",
    "                    loss='modified_huber', penalty='elasticnet',\n",
    "                    l1_ratio=0.1, n_jobs=-1)"
   ]
  },
  {
   "cell_type": "code",
   "execution_count": 440,
   "metadata": {},
   "outputs": [],
   "source": [
    "tfidf_1 = TfidfVectorizer(stop_words=stop_words, min_df=2, \n",
    "                          max_df=0.6, ngram_range=(1, 3))"
   ]
  },
  {
   "cell_type": "code",
   "execution_count": 441,
   "metadata": {},
   "outputs": [
    {
     "name": "stdout",
     "output_type": "stream",
     "text": [
      "Evaluation of classifier finished in 92.81 s \n",
      "Average accuracy: 89.35 % \n",
      "Average precision: 89.37 % \n",
      "Average recall: 89.35 % \n",
      "Average f-measure: 89.35 % \n",
      "\n"
     ]
    }
   ],
   "source": [
    "evaluate_classifier(svm, kf, X, y, tfidf_1)"
   ]
  },
  {
   "cell_type": "code",
   "execution_count": 442,
   "metadata": {},
   "outputs": [
    {
     "name": "stderr",
     "output_type": "stream",
     "text": [
      "/home/dimitriosrou/anaconda3/envs/ml_gpu/lib/python3.6/site-packages/sklearn/linear_model/sag.py:337: ConvergenceWarning: The max_iter was reached which means the coef_ did not converge\n",
      "  \"the coef_ did not converge\", ConvergenceWarning)\n",
      "/home/dimitriosrou/anaconda3/envs/ml_gpu/lib/python3.6/site-packages/sklearn/linear_model/sag.py:337: ConvergenceWarning: The max_iter was reached which means the coef_ did not converge\n",
      "  \"the coef_ did not converge\", ConvergenceWarning)\n",
      "/home/dimitriosrou/anaconda3/envs/ml_gpu/lib/python3.6/site-packages/sklearn/linear_model/sag.py:337: ConvergenceWarning: The max_iter was reached which means the coef_ did not converge\n",
      "  \"the coef_ did not converge\", ConvergenceWarning)\n"
     ]
    },
    {
     "name": "stdout",
     "output_type": "stream",
     "text": [
      "Evaluation of classifier finished in 204.99 s \n",
      "Average accuracy: 88.88 % \n",
      "Average precision: 88.89 % \n",
      "Average recall: 88.88 % \n",
      "Average f-measure: 88.88 % \n",
      "\n"
     ]
    }
   ],
   "source": [
    "evaluate_classifier(ridge, kf, X, y, tfidf_1)"
   ]
  },
  {
   "cell_type": "code",
   "execution_count": 443,
   "metadata": {},
   "outputs": [
    {
     "name": "stdout",
     "output_type": "stream",
     "text": [
      "Evaluation of classifier finished in 95.50 s \n",
      "Average accuracy: 89.32 % \n",
      "Average precision: 89.35 % \n",
      "Average recall: 89.32 % \n",
      "Average f-measure: 89.32 % \n",
      "\n"
     ]
    }
   ],
   "source": [
    "evaluate_classifier(ridge_2, kf, X, y, tfidf_1)"
   ]
  },
  {
   "cell_type": "code",
   "execution_count": 490,
   "metadata": {},
   "outputs": [
    {
     "name": "stdout",
     "output_type": "stream",
     "text": [
      "Evaluation of classifier finished in 100.75 s \n",
      "Average accuracy: 89.34 % \n",
      "Average precision: 89.37 % \n",
      "Average recall: 89.34 % \n",
      "Average f-measure: 89.34 % \n",
      "\n"
     ]
    }
   ],
   "source": [
    "evaluate_classifier(ridge_3, kf, X, y, tfidf_1)"
   ]
  },
  {
   "cell_type": "code",
   "execution_count": 444,
   "metadata": {},
   "outputs": [
    {
     "name": "stdout",
     "output_type": "stream",
     "text": [
      "Evaluation of classifier finished in 90.54 s \n",
      "Average accuracy: 89.06 % \n",
      "Average precision: 89.07 % \n",
      "Average recall: 89.06 % \n",
      "Average f-measure: 89.06 % \n",
      "\n"
     ]
    }
   ],
   "source": [
    "evaluate_classifier(pas_agr, kf, X, y, tfidf_1)"
   ]
  },
  {
   "cell_type": "code",
   "execution_count": 445,
   "metadata": {},
   "outputs": [
    {
     "name": "stdout",
     "output_type": "stream",
     "text": [
      "Evaluation of classifier finished in 93.15 s \n",
      "Average accuracy: 89.19 % \n",
      "Average precision: 89.20 % \n",
      "Average recall: 89.19 % \n",
      "Average f-measure: 89.18 % \n",
      "\n"
     ]
    }
   ],
   "source": [
    "evaluate_classifier(pas_agr_2, kf, X, y, tfidf_1)"
   ]
  },
  {
   "cell_type": "code",
   "execution_count": 491,
   "metadata": {},
   "outputs": [
    {
     "name": "stdout",
     "output_type": "stream",
     "text": [
      "Evaluation of classifier finished in 93.94 s \n",
      "Average accuracy: 89.20 % \n",
      "Average precision: 89.21 % \n",
      "Average recall: 89.20 % \n",
      "Average f-measure: 89.20 % \n",
      "\n"
     ]
    }
   ],
   "source": [
    "evaluate_classifier(pas_agr_3, kf, X, y, tfidf_1)"
   ]
  },
  {
   "cell_type": "code",
   "execution_count": 446,
   "metadata": {},
   "outputs": [
    {
     "name": "stdout",
     "output_type": "stream",
     "text": [
      "Evaluation of classifier finished in 90.32 s \n",
      "Average accuracy: 89.21 % \n",
      "Average precision: 89.25 % \n",
      "Average recall: 89.22 % \n",
      "Average f-measure: 89.21 % \n",
      "\n"
     ]
    }
   ],
   "source": [
    "evaluate_classifier(sgd, kf, X, y, tfidf_1)"
   ]
  },
  {
   "cell_type": "code",
   "execution_count": 447,
   "metadata": {},
   "outputs": [
    {
     "name": "stdout",
     "output_type": "stream",
     "text": [
      "Evaluation of classifier finished in 90.37 s \n",
      "Average accuracy: 89.03 % \n",
      "Average precision: 89.06 % \n",
      "Average recall: 89.02 % \n",
      "Average f-measure: 89.03 % \n",
      "\n"
     ]
    }
   ],
   "source": [
    "evaluate_classifier(sgd_2, kf, X, y, tfidf_1)"
   ]
  },
  {
   "cell_type": "code",
   "execution_count": 494,
   "metadata": {},
   "outputs": [],
   "source": [
    "# Voting ensemble of 3 classifiers\n",
    "\n",
    "boost = VotingClassifier(estimators=[\n",
    "                        ('svc', svm), ('ridge', ridge_3), ('pas_agr', pas_agr_3)],\n",
    "                        voting='hard', n_jobs=-1)"
   ]
  },
  {
   "cell_type": "code",
   "execution_count": 495,
   "metadata": {},
   "outputs": [
    {
     "name": "stdout",
     "output_type": "stream",
     "text": [
      "Evaluation of classifier finished in 108.77 s \n",
      "Average accuracy: 89.36 % \n",
      "Average precision: 89.38 % \n",
      "Average recall: 89.36 % \n",
      "Average f-measure: 89.36 % \n",
      "\n"
     ]
    }
   ],
   "source": [
    "evaluate_classifier(boost, kf, X, y, tfidf_1)"
   ]
  },
  {
   "cell_type": "code",
   "execution_count": 493,
   "metadata": {},
   "outputs": [
    {
     "name": "stdout",
     "output_type": "stream",
     "text": [
      "Evaluation of ensemble classifier on test set \n",
      "Average accuracy: 89.94 % \n",
      "Average precision: 89.94 % \n",
      "Average recall: 89.94 % \n",
      "Average f-measure: 89.94 % \n",
      "\n"
     ]
    }
   ],
   "source": [
    "# Evaluate ensemble on test set\n",
    "\n",
    "metrics = np.zeros(4)\n",
    "X_train_gen = [x for x in X]\n",
    "tfidf_1.fit(X)\n",
    "X_train_vec = tfidf_1.transform(X_train_gen)\n",
    "boost.fit(X_train_vec, y)\n",
    "X_test_gen = [x for x in X_test]\n",
    "X_test_vec = tfidf_1.transform(X_test_gen)\n",
    "y_pred = boost.predict(X_test_vec)\n",
    "metrics = get_metrics(y_test, y_pred, metrics)\n",
    "metrics = metrics * 100\n",
    "print('Evaluation of ensemble classifier on test set \\n'\n",
    "      'Average accuracy: {:.2f} % \\n'\n",
    "      'Average precision: {:.2f} % \\n'\n",
    "      'Average recall: {:.2f} % \\n'\n",
    "      'Average f-measure: {:.2f} % \\n'\n",
    "      .format(metrics[0], metrics[1],\n",
    "              metrics[2], metrics[3]))"
   ]
  },
  {
   "cell_type": "code",
   "execution_count": null,
   "metadata": {},
   "outputs": [],
   "source": []
  },
  {
   "cell_type": "code",
   "execution_count": null,
   "metadata": {},
   "outputs": [],
   "source": []
  },
  {
   "cell_type": "code",
   "execution_count": 459,
   "metadata": {},
   "outputs": [],
   "source": [
    "tfidf_2 = TfidfVectorizer(stop_words=stop_words, min_df=2, \n",
    "                          max_df=0.45, ngram_range=(1, 3))"
   ]
  },
  {
   "cell_type": "code",
   "execution_count": 424,
   "metadata": {},
   "outputs": [
    {
     "name": "stdout",
     "output_type": "stream",
     "text": [
      "Evaluation of classifier finished in 95.23 s \n",
      "Average accuracy: 89.40 % \n",
      "Average precision: 89.43 % \n",
      "Average recall: 89.40 % \n",
      "Average f-measure: 89.40 % \n",
      "\n"
     ]
    }
   ],
   "source": [
    "evaluate_classifier(svm, kf, X, y, tfidf_2)"
   ]
  },
  {
   "cell_type": "code",
   "execution_count": 425,
   "metadata": {},
   "outputs": [
    {
     "name": "stderr",
     "output_type": "stream",
     "text": [
      "/home/dimitriosrou/anaconda3/envs/ml_gpu/lib/python3.6/site-packages/sklearn/linear_model/sag.py:337: ConvergenceWarning: The max_iter was reached which means the coef_ did not converge\n",
      "  \"the coef_ did not converge\", ConvergenceWarning)\n",
      "/home/dimitriosrou/anaconda3/envs/ml_gpu/lib/python3.6/site-packages/sklearn/linear_model/sag.py:337: ConvergenceWarning: The max_iter was reached which means the coef_ did not converge\n",
      "  \"the coef_ did not converge\", ConvergenceWarning)\n",
      "/home/dimitriosrou/anaconda3/envs/ml_gpu/lib/python3.6/site-packages/sklearn/linear_model/sag.py:337: ConvergenceWarning: The max_iter was reached which means the coef_ did not converge\n",
      "  \"the coef_ did not converge\", ConvergenceWarning)\n"
     ]
    },
    {
     "name": "stdout",
     "output_type": "stream",
     "text": [
      "Evaluation of classifier finished in 214.29 s \n",
      "Average accuracy: 89.00 % \n",
      "Average precision: 89.05 % \n",
      "Average recall: 88.99 % \n",
      "Average f-measure: 88.99 % \n",
      "\n"
     ]
    }
   ],
   "source": [
    "evaluate_classifier(ridge, kf, X, y, tfidf_2)"
   ]
  },
  {
   "cell_type": "code",
   "execution_count": 460,
   "metadata": {},
   "outputs": [
    {
     "name": "stdout",
     "output_type": "stream",
     "text": [
      "Evaluation of classifier finished in 100.08 s \n",
      "Average accuracy: 89.34 % \n",
      "Average precision: 89.37 % \n",
      "Average recall: 89.34 % \n",
      "Average f-measure: 89.34 % \n",
      "\n"
     ]
    }
   ],
   "source": [
    "evaluate_classifier(ridge_2, kf, X, y, tfidf_2)"
   ]
  },
  {
   "cell_type": "code",
   "execution_count": 461,
   "metadata": {},
   "outputs": [
    {
     "name": "stdout",
     "output_type": "stream",
     "text": [
      "Evaluation of classifier finished in 100.92 s \n",
      "Average accuracy: 89.35 % \n",
      "Average precision: 89.38 % \n",
      "Average recall: 89.34 % \n",
      "Average f-measure: 89.34 % \n",
      "\n"
     ]
    }
   ],
   "source": [
    "evaluate_classifier(ridge_3, kf, X, y, tfidf_2)"
   ]
  },
  {
   "cell_type": "code",
   "execution_count": 426,
   "metadata": {},
   "outputs": [
    {
     "name": "stdout",
     "output_type": "stream",
     "text": [
      "Evaluation of classifier finished in 95.26 s \n",
      "Average accuracy: 89.21 % \n",
      "Average precision: 89.23 % \n",
      "Average recall: 89.21 % \n",
      "Average f-measure: 89.21 % \n",
      "\n"
     ]
    }
   ],
   "source": [
    "evaluate_classifier(pas_agr, kf, X, y, tfidf_2)"
   ]
  },
  {
   "cell_type": "code",
   "execution_count": 462,
   "metadata": {},
   "outputs": [
    {
     "name": "stdout",
     "output_type": "stream",
     "text": [
      "Evaluation of classifier finished in 96.41 s \n",
      "Average accuracy: 89.17 % \n",
      "Average precision: 89.19 % \n",
      "Average recall: 89.17 % \n",
      "Average f-measure: 89.17 % \n",
      "\n"
     ]
    }
   ],
   "source": [
    "evaluate_classifier(pas_agr_2, kf, X, y, tfidf_2)"
   ]
  },
  {
   "cell_type": "code",
   "execution_count": 463,
   "metadata": {},
   "outputs": [
    {
     "name": "stdout",
     "output_type": "stream",
     "text": [
      "Evaluation of classifier finished in 96.14 s \n",
      "Average accuracy: 89.30 % \n",
      "Average precision: 89.32 % \n",
      "Average recall: 89.30 % \n",
      "Average f-measure: 89.30 % \n",
      "\n"
     ]
    }
   ],
   "source": [
    "evaluate_classifier(pas_agr_3, kf, X, y, tfidf_2)"
   ]
  },
  {
   "cell_type": "code",
   "execution_count": 465,
   "metadata": {},
   "outputs": [
    {
     "name": "stdout",
     "output_type": "stream",
     "text": [
      "Evaluation of classifier finished in 92.10 s \n",
      "Average accuracy: 89.25 % \n",
      "Average precision: 89.26 % \n",
      "Average recall: 89.25 % \n",
      "Average f-measure: 89.25 % \n",
      "\n"
     ]
    }
   ],
   "source": [
    "evaluate_classifier(sgd, kf, X, y, tfidf_2)"
   ]
  },
  {
   "cell_type": "code",
   "execution_count": 464,
   "metadata": {},
   "outputs": [
    {
     "name": "stdout",
     "output_type": "stream",
     "text": [
      "Evaluation of classifier finished in 95.49 s \n",
      "Average accuracy: 89.01 % \n",
      "Average precision: 89.03 % \n",
      "Average recall: 89.00 % \n",
      "Average f-measure: 89.00 % \n",
      "\n"
     ]
    }
   ],
   "source": [
    "evaluate_classifier(sgd_2, kf, X, y, tfidf_2)"
   ]
  },
  {
   "cell_type": "code",
   "execution_count": 466,
   "metadata": {},
   "outputs": [],
   "source": [
    "# Voting ensemble of 3 classifiers\n",
    "\n",
    "boost = VotingClassifier(estimators=[\n",
    "                        ('svc', svm), ('ridge', ridge_3), ('pas_agr', pas_agr_3)],\n",
    "                        voting='hard', n_jobs=-1)"
   ]
  },
  {
   "cell_type": "code",
   "execution_count": 497,
   "metadata": {},
   "outputs": [
    {
     "name": "stdout",
     "output_type": "stream",
     "text": [
      "Evaluation of classifier finished in 105.68 s \n",
      "Average accuracy: 89.36 % \n",
      "Average precision: 89.39 % \n",
      "Average recall: 89.36 % \n",
      "Average f-measure: 89.36 % \n",
      "\n"
     ]
    }
   ],
   "source": [
    "evaluate_classifier(boost, kf, X, y, tfidf_2)"
   ]
  },
  {
   "cell_type": "code",
   "execution_count": 467,
   "metadata": {},
   "outputs": [
    {
     "name": "stdout",
     "output_type": "stream",
     "text": [
      "Evaluation of ensemble classifier on test set \n",
      "Average accuracy: 89.96 % \n",
      "Average precision: 89.97 % \n",
      "Average recall: 89.96 % \n",
      "Average f-measure: 89.96 % \n",
      "\n"
     ]
    }
   ],
   "source": [
    "# Evaluate ensemble on test set\n",
    "\n",
    "metrics = np.zeros(4)\n",
    "X_train_gen = [x for x in X]\n",
    "tfidf_2.fit(X)\n",
    "X_train_vec = tfidf_2.transform(X_train_gen)\n",
    "boost.fit(X_train_vec, y)\n",
    "X_test_gen = [x for x in X_test]\n",
    "X_test_vec = tfidf_2.transform(X_test_gen)\n",
    "y_pred = boost.predict(X_test_vec)\n",
    "metrics = get_metrics(y_test, y_pred, metrics)\n",
    "metrics = metrics * 100\n",
    "print('Evaluation of ensemble classifier on test set \\n'\n",
    "      'Average accuracy: {:.2f} % \\n'\n",
    "      'Average precision: {:.2f} % \\n'\n",
    "      'Average recall: {:.2f} % \\n'\n",
    "      'Average f-measure: {:.2f} % \\n'\n",
    "      .format(metrics[0], metrics[1],\n",
    "              metrics[2], metrics[3]))"
   ]
  },
  {
   "cell_type": "code",
   "execution_count": null,
   "metadata": {},
   "outputs": [],
   "source": []
  },
  {
   "cell_type": "code",
   "execution_count": null,
   "metadata": {},
   "outputs": [],
   "source": []
  },
  {
   "cell_type": "code",
   "execution_count": 469,
   "metadata": {},
   "outputs": [],
   "source": [
    "tfidf_3 = TfidfVectorizer(stop_words=stop_words, min_df=2, \n",
    "                          max_df=0.55, ngram_range=(1, 3))"
   ]
  },
  {
   "cell_type": "code",
   "execution_count": 470,
   "metadata": {},
   "outputs": [
    {
     "name": "stdout",
     "output_type": "stream",
     "text": [
      "Evaluation of classifier finished in 93.20 s \n",
      "Average accuracy: 89.40 % \n",
      "Average precision: 89.43 % \n",
      "Average recall: 89.40 % \n",
      "Average f-measure: 89.40 % \n",
      "\n"
     ]
    }
   ],
   "source": [
    "evaluate_classifier(svm, kf, X, y, tfidf_3)"
   ]
  },
  {
   "cell_type": "code",
   "execution_count": 471,
   "metadata": {},
   "outputs": [
    {
     "name": "stdout",
     "output_type": "stream",
     "text": [
      "Evaluation of classifier finished in 101.12 s \n",
      "Average accuracy: 89.33 % \n",
      "Average precision: 89.36 % \n",
      "Average recall: 89.33 % \n",
      "Average f-measure: 89.33 % \n",
      "\n"
     ]
    }
   ],
   "source": [
    "evaluate_classifier(ridge_2, kf, X, y, tfidf_3)"
   ]
  },
  {
   "cell_type": "code",
   "execution_count": 472,
   "metadata": {},
   "outputs": [
    {
     "name": "stdout",
     "output_type": "stream",
     "text": [
      "Evaluation of classifier finished in 100.37 s \n",
      "Average accuracy: 89.33 % \n",
      "Average precision: 89.36 % \n",
      "Average recall: 89.33 % \n",
      "Average f-measure: 89.33 % \n",
      "\n"
     ]
    }
   ],
   "source": [
    "evaluate_classifier(ridge_3, kf, X, y, tfidf_3)"
   ]
  },
  {
   "cell_type": "code",
   "execution_count": 473,
   "metadata": {},
   "outputs": [
    {
     "name": "stdout",
     "output_type": "stream",
     "text": [
      "Evaluation of classifier finished in 95.79 s \n",
      "Average accuracy: 89.17 % \n",
      "Average precision: 89.19 % \n",
      "Average recall: 89.17 % \n",
      "Average f-measure: 89.17 % \n",
      "\n"
     ]
    }
   ],
   "source": [
    "evaluate_classifier(pas_agr, kf, X, y, tfidf_3)"
   ]
  },
  {
   "cell_type": "code",
   "execution_count": 474,
   "metadata": {},
   "outputs": [
    {
     "name": "stdout",
     "output_type": "stream",
     "text": [
      "Evaluation of classifier finished in 95.01 s \n",
      "Average accuracy: 89.06 % \n",
      "Average precision: 89.08 % \n",
      "Average recall: 89.06 % \n",
      "Average f-measure: 89.06 % \n",
      "\n"
     ]
    }
   ],
   "source": [
    "evaluate_classifier(pas_agr_2, kf, X, y, tfidf_3)"
   ]
  },
  {
   "cell_type": "code",
   "execution_count": 475,
   "metadata": {},
   "outputs": [
    {
     "name": "stdout",
     "output_type": "stream",
     "text": [
      "Evaluation of classifier finished in 95.08 s \n",
      "Average accuracy: 89.30 % \n",
      "Average precision: 89.32 % \n",
      "Average recall: 89.30 % \n",
      "Average f-measure: 89.30 % \n",
      "\n"
     ]
    }
   ],
   "source": [
    "evaluate_classifier(pas_agr_3, kf, X, y, tfidf_3)"
   ]
  },
  {
   "cell_type": "code",
   "execution_count": 476,
   "metadata": {},
   "outputs": [
    {
     "name": "stdout",
     "output_type": "stream",
     "text": [
      "Evaluation of classifier finished in 94.49 s \n",
      "Average accuracy: 89.08 % \n",
      "Average precision: 89.13 % \n",
      "Average recall: 89.07 % \n",
      "Average f-measure: 89.07 % \n",
      "\n"
     ]
    }
   ],
   "source": [
    "evaluate_classifier(sgd, kf, X, y, tfidf_3)"
   ]
  },
  {
   "cell_type": "code",
   "execution_count": 477,
   "metadata": {},
   "outputs": [
    {
     "name": "stdout",
     "output_type": "stream",
     "text": [
      "Evaluation of classifier finished in 92.60 s \n",
      "Average accuracy: 88.93 % \n",
      "Average precision: 89.01 % \n",
      "Average recall: 88.93 % \n",
      "Average f-measure: 88.92 % \n",
      "\n"
     ]
    }
   ],
   "source": [
    "evaluate_classifier(sgd_2, kf, X, y, tfidf_3)"
   ]
  },
  {
   "cell_type": "code",
   "execution_count": 488,
   "metadata": {},
   "outputs": [],
   "source": [
    "# Voting ensemble of 3 classifiers\n",
    "\n",
    "boost = VotingClassifier(estimators=[\n",
    "                        ('svc', svm), ('ridge', ridge_3), ('pas_agr', pas_agr_3)],\n",
    "                        voting='hard', n_jobs=-1)"
   ]
  },
  {
   "cell_type": "code",
   "execution_count": 496,
   "metadata": {},
   "outputs": [
    {
     "name": "stdout",
     "output_type": "stream",
     "text": [
      "Evaluation of classifier finished in 105.66 s \n",
      "Average accuracy: 89.42 % \n",
      "Average precision: 89.44 % \n",
      "Average recall: 89.42 % \n",
      "Average f-measure: 89.42 % \n",
      "\n"
     ]
    }
   ],
   "source": [
    "evaluate_classifier(boost, kf, X, y, tfidf_3)"
   ]
  },
  {
   "cell_type": "code",
   "execution_count": 489,
   "metadata": {},
   "outputs": [
    {
     "name": "stdout",
     "output_type": "stream",
     "text": [
      "Evaluation of ensemble classifier on test set \n",
      "Average accuracy: 89.91 % \n",
      "Average precision: 89.92 % \n",
      "Average recall: 89.91 % \n",
      "Average f-measure: 89.91 % \n",
      "\n"
     ]
    }
   ],
   "source": [
    "# Evaluate ensemble on test set\n",
    "\n",
    "metrics = np.zeros(4)\n",
    "X_train_gen = [x for x in X]\n",
    "tfidf_3.fit(X)\n",
    "X_train_vec = tfidf_3.transform(X_train_gen)\n",
    "boost.fit(X_train_vec, y)\n",
    "X_test_gen = [x for x in X_test]\n",
    "X_test_vec = tfidf_3.transform(X_test_gen)\n",
    "y_pred = boost.predict(X_test_vec)\n",
    "metrics = get_metrics(y_test, y_pred, metrics)\n",
    "metrics = metrics * 100\n",
    "print('Evaluation of ensemble classifier on test set \\n'\n",
    "      'Average accuracy: {:.2f} % \\n'\n",
    "      'Average precision: {:.2f} % \\n'\n",
    "      'Average recall: {:.2f} % \\n'\n",
    "      'Average f-measure: {:.2f} % \\n'\n",
    "      .format(metrics[0], metrics[1],\n",
    "              metrics[2], metrics[3]))"
   ]
  },
  {
   "cell_type": "code",
   "execution_count": null,
   "metadata": {},
   "outputs": [],
   "source": []
  },
  {
   "cell_type": "code",
   "execution_count": null,
   "metadata": {},
   "outputs": [],
   "source": []
  },
  {
   "cell_type": "code",
   "execution_count": null,
   "metadata": {},
   "outputs": [],
   "source": []
  },
  {
   "cell_type": "code",
   "execution_count": null,
   "metadata": {},
   "outputs": [],
   "source": []
  },
  {
   "cell_type": "markdown",
   "metadata": {},
   "source": [
    "## Deliverable for competition"
   ]
  },
  {
   "cell_type": "code",
   "execution_count": 404,
   "metadata": {},
   "outputs": [],
   "source": [
    "df_test = pd.read_csv('test_without_labels.csv')"
   ]
  },
  {
   "cell_type": "code",
   "execution_count": 405,
   "metadata": {},
   "outputs": [],
   "source": [
    "X_final = df_test['Content'].values"
   ]
  },
  {
   "cell_type": "code",
   "execution_count": 406,
   "metadata": {},
   "outputs": [],
   "source": [
    "X_train_gen = [x for x in X_enh]\n",
    "tfidf_2.fit(X_train_gen)\n",
    "X_train_vec = tfidf_2.transform(X_train_gen)\n",
    "boost.fit(X_train_vec, y_enh)\n",
    "X_test_gen = [x for x in X_final]\n",
    "X_test_vec = tfidf_2.transform(X_test_gen)\n",
    "y_pred = boost.predict(X_test_vec)"
   ]
  },
  {
   "cell_type": "code",
   "execution_count": 407,
   "metadata": {},
   "outputs": [
    {
     "data": {
      "text/plain": [
       "(25000,)"
      ]
     },
     "execution_count": 407,
     "metadata": {},
     "output_type": "execute_result"
    }
   ],
   "source": [
    "y_pred.shape"
   ]
  },
  {
   "cell_type": "code",
   "execution_count": 408,
   "metadata": {},
   "outputs": [],
   "source": [
    "df_results = pd.DataFrame({'Id':df_test['Id'], 'Predicted':y_pred})"
   ]
  },
  {
   "cell_type": "code",
   "execution_count": 409,
   "metadata": {},
   "outputs": [],
   "source": [
    "df_results.to_csv('sentiment_predictions.csv',index=False, header=True)"
   ]
  },
  {
   "cell_type": "code",
   "execution_count": null,
   "metadata": {},
   "outputs": [],
   "source": []
  }
 ],
 "metadata": {
  "kernelspec": {
   "display_name": "Python 3",
   "language": "python",
   "name": "python3"
  },
  "language_info": {
   "codemirror_mode": {
    "name": "ipython",
    "version": 3
   },
   "file_extension": ".py",
   "mimetype": "text/x-python",
   "name": "python",
   "nbconvert_exporter": "python",
   "pygments_lexer": "ipython3",
   "version": "3.6.7"
  },
  "toc": {
   "base_numbering": 1,
   "nav_menu": {},
   "number_sections": false,
   "sideBar": true,
   "skip_h1_title": false,
   "title_cell": "Table of Contents",
   "title_sidebar": "Contents",
   "toc_cell": false,
   "toc_position": {
    "height": "calc(100% - 180px)",
    "left": "10px",
    "top": "150px",
    "width": "165px"
   },
   "toc_section_display": true,
   "toc_window_display": true
  },
  "varInspector": {
   "cols": {
    "lenName": 16,
    "lenType": 16,
    "lenVar": 40
   },
   "kernels_config": {
    "python": {
     "delete_cmd_postfix": "",
     "delete_cmd_prefix": "del ",
     "library": "var_list.py",
     "varRefreshCmd": "print(var_dic_list())"
    },
    "r": {
     "delete_cmd_postfix": ") ",
     "delete_cmd_prefix": "rm(",
     "library": "var_list.r",
     "varRefreshCmd": "cat(var_dic_list()) "
    }
   },
   "types_to_exclude": [
    "module",
    "function",
    "builtin_function_or_method",
    "instance",
    "_Feature"
   ],
   "window_display": false
  }
 },
 "nbformat": 4,
 "nbformat_minor": 2
}
