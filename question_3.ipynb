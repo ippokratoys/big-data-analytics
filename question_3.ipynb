{
 "cells": [
  {
   "cell_type": "markdown",
   "metadata": {},
   "source": [
    "# Requirement 3 - Sentiment Analysis"
   ]
  },
  {
   "cell_type": "code",
   "execution_count": 1,
   "metadata": {},
   "outputs": [],
   "source": [
    "from __future__ import absolute_import, division, print_function, unicode_literals\n",
    "import tensorflow as tf\n",
    "from tensorflow import keras as keras\n",
    "import numpy as np\n",
    "import pandas as pd\n",
    "import warnings\n",
    "from matplotlib import pyplot as plt\n",
    "from timeit import default_timer as timer\n",
    "from sklearn.feature_extraction.text import ENGLISH_STOP_WORDS, HashingVectorizer, TfidfVectorizer\n",
    "from sklearn.ensemble import VotingClassifier\n",
    "from sklearn.linear_model import RidgeClassifier, PassiveAggressiveClassifier, SGDClassifier\n",
    "from sklearn.model_selection import KFold, train_test_split\n",
    "from sklearn.metrics import f1_score, accuracy_score, precision_score, recall_score\n",
    "from sklearn.decomposition import TruncatedSVD\n",
    "from sklearn.svm import LinearSVC\n",
    "import logging\n",
    "\n",
    "logger = tf.get_logger()\n",
    "logger.setLevel(logging.ERROR)\n",
    "%matplotlib inline"
   ]
  },
  {
   "cell_type": "code",
   "execution_count": 2,
   "metadata": {},
   "outputs": [],
   "source": [
    "from tensorflow.compat.v1 import ConfigProto\n",
    "from tensorflow.compat.v1 import InteractiveSession\n",
    "\n",
    "config = ConfigProto()\n",
    "config.gpu_options.allow_growth = True\n",
    "session = InteractiveSession(config=config)"
   ]
  },
  {
   "cell_type": "code",
   "execution_count": 3,
   "metadata": {},
   "outputs": [],
   "source": [
    "np.random.seed(54)\n",
    "tf.random.set_seed(54)"
   ]
  },
  {
   "cell_type": "code",
   "execution_count": 4,
   "metadata": {},
   "outputs": [],
   "source": [
    "warnings.simplefilter(action='ignore', category=FutureWarning)"
   ]
  },
  {
   "cell_type": "code",
   "execution_count": 5,
   "metadata": {},
   "outputs": [],
   "source": [
    "df = pd.read_csv('train.csv')"
   ]
  },
  {
   "cell_type": "code",
   "execution_count": 6,
   "metadata": {},
   "outputs": [
    {
     "data": {
      "text/html": [
       "<div>\n",
       "<style scoped>\n",
       "    .dataframe tbody tr th:only-of-type {\n",
       "        vertical-align: middle;\n",
       "    }\n",
       "\n",
       "    .dataframe tbody tr th {\n",
       "        vertical-align: top;\n",
       "    }\n",
       "\n",
       "    .dataframe thead th {\n",
       "        text-align: right;\n",
       "    }\n",
       "</style>\n",
       "<table border=\"1\" class=\"dataframe\">\n",
       "  <thead>\n",
       "    <tr style=\"text-align: right;\">\n",
       "      <th></th>\n",
       "      <th>Content</th>\n",
       "      <th>Label</th>\n",
       "      <th>Id</th>\n",
       "    </tr>\n",
       "  </thead>\n",
       "  <tbody>\n",
       "    <tr>\n",
       "      <th>0</th>\n",
       "      <td>Whoever made this movie must have done it as a...</td>\n",
       "      <td>0</td>\n",
       "      <td>0</td>\n",
       "    </tr>\n",
       "    <tr>\n",
       "      <th>1</th>\n",
       "      <td>I love this movie because I grew up around har...</td>\n",
       "      <td>1</td>\n",
       "      <td>1</td>\n",
       "    </tr>\n",
       "    <tr>\n",
       "      <th>2</th>\n",
       "      <td>I had some expectation for the movie, since it...</td>\n",
       "      <td>0</td>\n",
       "      <td>2</td>\n",
       "    </tr>\n",
       "    <tr>\n",
       "      <th>3</th>\n",
       "      <td>During the early 1980's, Kurt Thomas was somet...</td>\n",
       "      <td>0</td>\n",
       "      <td>3</td>\n",
       "    </tr>\n",
       "    <tr>\n",
       "      <th>4</th>\n",
       "      <td>Poor Will would be rolling over in his grave i...</td>\n",
       "      <td>0</td>\n",
       "      <td>4</td>\n",
       "    </tr>\n",
       "  </tbody>\n",
       "</table>\n",
       "</div>"
      ],
      "text/plain": [
       "                                             Content  Label  Id\n",
       "0  Whoever made this movie must have done it as a...      0   0\n",
       "1  I love this movie because I grew up around har...      1   1\n",
       "2  I had some expectation for the movie, since it...      0   2\n",
       "3  During the early 1980's, Kurt Thomas was somet...      0   3\n",
       "4  Poor Will would be rolling over in his grave i...      0   4"
      ]
     },
     "execution_count": 6,
     "metadata": {},
     "output_type": "execute_result"
    }
   ],
   "source": [
    "df.head()"
   ]
  },
  {
   "cell_type": "code",
   "execution_count": 7,
   "metadata": {},
   "outputs": [
    {
     "name": "stdout",
     "output_type": "stream",
     "text": [
      "<class 'pandas.core.frame.DataFrame'>\n",
      "RangeIndex: 25000 entries, 0 to 24999\n",
      "Data columns (total 3 columns):\n",
      "Content    25000 non-null object\n",
      "Label      25000 non-null int64\n",
      "Id         25000 non-null int64\n",
      "dtypes: int64(2), object(1)\n",
      "memory usage: 586.1+ KB\n"
     ]
    }
   ],
   "source": [
    "df.info()\n",
    "len_start = len(df)"
   ]
  },
  {
   "cell_type": "code",
   "execution_count": 8,
   "metadata": {},
   "outputs": [],
   "source": [
    "# Remove articles with duplicate content\n",
    "\n",
    "df.drop_duplicates(subset='Content', keep='last', inplace=True)"
   ]
  },
  {
   "cell_type": "code",
   "execution_count": 9,
   "metadata": {},
   "outputs": [
    {
     "name": "stdout",
     "output_type": "stream",
     "text": [
      "<class 'pandas.core.frame.DataFrame'>\n",
      "Int64Index: 24904 entries, 0 to 24999\n",
      "Data columns (total 3 columns):\n",
      "Content    24904 non-null object\n",
      "Label      24904 non-null int64\n",
      "Id         24904 non-null int64\n",
      "dtypes: int64(2), object(1)\n",
      "memory usage: 778.2+ KB\n"
     ]
    }
   ],
   "source": [
    "df.info()\n",
    "len_end = len(df)"
   ]
  },
  {
   "cell_type": "code",
   "execution_count": 10,
   "metadata": {},
   "outputs": [
    {
     "name": "stdout",
     "output_type": "stream",
     "text": [
      "96 duplicate articles were removed from the dataset\n"
     ]
    }
   ],
   "source": [
    "# Display number of duplicates in the dataset\n",
    "\n",
    "print('{} duplicate articles were removed from the dataset'\n",
    "      .format(len_start - len_end))"
   ]
  },
  {
   "cell_type": "code",
   "execution_count": 11,
   "metadata": {},
   "outputs": [
    {
     "name": "stdout",
     "output_type": "stream",
     "text": [
      "Label\n",
      "0    0.499197\n",
      "1    0.500803\n",
      "Name: Content, dtype: float64\n"
     ]
    }
   ],
   "source": [
    "# Relative frequency of labels\n",
    "\n",
    "rel_freq = df.groupby('Label').Content.count() / len(df)\n",
    "print(rel_freq)"
   ]
  },
  {
   "cell_type": "code",
   "execution_count": 12,
   "metadata": {},
   "outputs": [
    {
     "data": {
      "image/png": "[encoded data removed]",
      "text/plain": [
       "<Figure size 432x360 with 1 Axes>"
      ]
     },
     "metadata": {
      "needs_background": "light"
     },
     "output_type": "display_data"
    }
   ],
   "source": [
    "fig, ax = plt.subplots(figsize=(6, 5))\n",
    "rel_freq.plot.bar(ax=ax)\n",
    "ax.set_title('Relative Frequencies of Labels')\n",
    "ax.set_xlabel('')\n",
    "fig.tight_layout()\n",
    "plt.savefig('label_freq.png')\n",
    "plt.show()"
   ]
  },
  {
   "cell_type": "code",
   "execution_count": 13,
   "metadata": {},
   "outputs": [],
   "source": [
    "def get_metrics(y_true, y_pred, metrics):\n",
    "    metrics[0] += accuracy_score(y_true, y_pred)\n",
    "    metrics[1] += precision_score(y_true, y_pred, average='macro')\n",
    "    metrics[2] += recall_score(y_true, y_pred, average='macro')\n",
    "    metrics[3] += f1_score(y_true, y_pred, average='macro')\n",
    "    return metrics"
   ]
  },
  {
   "cell_type": "code",
   "execution_count": 14,
   "metadata": {},
   "outputs": [],
   "source": [
    "def evaluate_classifier(clf, kfold, X, y, vectorizer, svd_enable=False):\n",
    "    metrics = np.zeros(4)\n",
    "    if svd_enable:\n",
    "        svd = TruncatedSVD(n_components=300)\n",
    "    start = timer()\n",
    "    for train, cv in kfold.split(X, y):\n",
    "        X_train, X_cv = X[train], X[cv]\n",
    "        y_train, y_cv = y[train], y[cv]\n",
    "        X_train_gen = [x for x in X_train]\n",
    "        vectorizer.fit(X_train_gen)\n",
    "        X_train_vec = vectorizer.transform(X_train_gen)\n",
    "        if svd_enable:\n",
    "            svd.fit(X_train_vec, y_train)\n",
    "            X_train_vec = svd.transform(X_train_vec)\n",
    "        clf.fit(X_train_vec, y_train)\n",
    "        X_cv_gen = [x for x in X_cv]\n",
    "        X_cv_vec = vectorizer.transform(X_cv_gen)\n",
    "        if svd_enable:\n",
    "            X_cv_vec = svd.transform(X_cv_vec)\n",
    "        y_pred = clf.predict(X_cv_vec)\n",
    "        metrics = get_metrics(y_cv, y_pred, metrics)\n",
    "    dt = timer() - start\n",
    "    metrics = metrics * 100 / 5\n",
    "    print('Evaluation of classifier finished in {:.2f} s \\n'\n",
    "          'Average accuracy: {:.2f} % \\n'\n",
    "          'Average precision: {:.2f} % \\n'\n",
    "          'Average recall: {:.2f} % \\n'\n",
    "          'Average f-measure: {:.2f} % \\n'\n",
    "          .format(dt, metrics[0], metrics[1],\n",
    "                  metrics[2], metrics[3]))"
   ]
  },
  {
   "cell_type": "markdown",
   "metadata": {},
   "source": [
    "## Classic machine learning method"
   ]
  },
  {
   "cell_type": "code",
   "execution_count": 15,
   "metadata": {},
   "outputs": [],
   "source": [
    "# 5-Fold cross-validation\n",
    "\n",
    "kf = KFold(n_splits=5, shuffle=True, random_state=42)\n",
    "\n",
    "# TF-IDF vectorizer and stop words\n",
    "\n",
    "stop_words = ENGLISH_STOP_WORDS\n",
    "tfidf = TfidfVectorizer(stop_words=stop_words, min_df=2, \n",
    "                        max_df=0.45, ngram_range=(1, 2))\n",
    "\n",
    "# SVM\n",
    "\n",
    "svm = LinearSVC()"
   ]
  },
  {
   "cell_type": "code",
   "execution_count": 16,
   "metadata": {},
   "outputs": [],
   "source": [
    "X = df['Content'].to_dense().values\n",
    "y = df['Label'].to_dense().values"
   ]
  },
  {
   "cell_type": "code",
   "execution_count": 17,
   "metadata": {},
   "outputs": [
    {
     "name": "stdout",
     "output_type": "stream",
     "text": [
      "Evaluation of classifier finished in 69.67 s \n",
      "Average accuracy: 89.78 % \n",
      "Average precision: 89.81 % \n",
      "Average recall: 89.78 % \n",
      "Average f-measure: 89.78 % \n",
      "\n"
     ]
    }
   ],
   "source": [
    "# SVM - BoW\n",
    "\n",
    "evaluate_classifier(svm, kf, X, y, tfidf)"
   ]
  },
  {
   "cell_type": "markdown",
   "metadata": {},
   "source": [
    "## Deep neural network method"
   ]
  },
  {
   "cell_type": "code",
   "execution_count": 18,
   "metadata": {},
   "outputs": [],
   "source": [
    "def evaluate_neural_net(kfold, X, y, vectorizer):\n",
    "    i = 1\n",
    "    metrics = np.zeros(4)\n",
    "    start = timer()\n",
    "    for train, cv in kfold.split(X, y):\n",
    "        X_train, X_cv = X[train], X[cv]\n",
    "        y_train, y_cv = y[train], y[cv]\n",
    "        vectorizer.fit(X_train)\n",
    "        X_train_vec = vectorizer.transform(X_train)\n",
    "        input_shape = X_train_vec.shape[1:]\n",
    "        model, early_stopping, model_checkpoint = build_model(input_shape, i)\n",
    "        history = model.fit(X_train_vec, y_train,\n",
    "                            batch_size=256, epochs=80, \n",
    "                            callbacks=[early_stopping, \n",
    "                                       model_checkpoint],\n",
    "                            verbose=0, validation_split=0.10)\n",
    "        final_model = keras.models.load_model('imdb_sentiment_{}.h5'.format(i))\n",
    "        X_cv_vec = vectorizer.transform(X_cv)\n",
    "        prediction = final_model.predict(X_cv_vec)\n",
    "        y_pred = (prediction > 0.5)\n",
    "        y_pred = y_pred * 1\n",
    "        metrics = get_metrics(y_cv, y_pred, metrics)\n",
    "        i += 1\n",
    "    dt = timer() - start\n",
    "    metrics = metrics * 100 / 5\n",
    "    print('Evaluation of classifier finished in {:.2f} s \\n'\n",
    "          'Average accuracy: {:.2f} % \\n'\n",
    "          'Average precision: {:.2f} % \\n'\n",
    "          'Average recall: {:.2f} % \\n'\n",
    "          'Average f-measure: {:.2f} % \\n'\n",
    "          .format(dt, metrics[0], metrics[1],\n",
    "                  metrics[2], metrics[3]))\n",
    "    \n",
    "    return history"
   ]
  },
  {
   "cell_type": "code",
   "execution_count": 19,
   "metadata": {},
   "outputs": [],
   "source": [
    "def build_model(input_shape, i):\n",
    "    \n",
    "    keras.backend.clear_session()\n",
    "    model = keras.Sequential([\n",
    "        keras.layers.Dropout(0.25, input_shape=input_shape),\n",
    "        keras.layers.Dense(96, activation='relu'),\n",
    "        keras.layers.Dropout(0.9),\n",
    "        keras.layers.Dense(64, activation='relu'),\n",
    "        keras.layers.Dropout(0.85),\n",
    "        keras.layers.Dense(1, activation='sigmoid')\n",
    "    ])\n",
    "\n",
    "    early_stopping = keras.callbacks.EarlyStopping(patience=3)\n",
    "    model_checkpoint = keras.callbacks.ModelCheckpoint(\n",
    "                       'imdb_sentiment_{}.h5'.format(i), save_best_only=True)\n",
    "    optimizer = keras.optimizers.Adam(lr=0.005, amsgrad=True)\n",
    "    model.compile(optimizer=optimizer,\n",
    "                  loss='binary_crossentropy',\n",
    "                  metrics=['accuracy'])\n",
    "    \n",
    "    return model, early_stopping, model_checkpoint"
   ]
  },
  {
   "cell_type": "code",
   "execution_count": 20,
   "metadata": {},
   "outputs": [],
   "source": [
    "X = df['Content'].values\n",
    "y = df['Label'].values"
   ]
  },
  {
   "cell_type": "code",
   "execution_count": 21,
   "metadata": {},
   "outputs": [],
   "source": [
    "# 5-Fold cross-validation\n",
    "\n",
    "kf = KFold(n_splits=5, shuffle=True, random_state=56)\n",
    "\n",
    "# TF-IDF vectorizer and stop words\n",
    "\n",
    "stop_words = ENGLISH_STOP_WORDS\n",
    "tfidf = TfidfVectorizer(stop_words=stop_words, min_df=2, \n",
    "                        max_df=0.45, ngram_range=(1, 2))"
   ]
  },
  {
   "cell_type": "code",
   "execution_count": 22,
   "metadata": {},
   "outputs": [
    {
     "name": "stdout",
     "output_type": "stream",
     "text": [
      "Evaluation of classifier finished in 2858.52 s \n",
      "Average accuracy: 90.31 % \n",
      "Average precision: 90.35 % \n",
      "Average recall: 90.31 % \n",
      "Average f-measure: 90.31 % \n",
      "\n"
     ]
    }
   ],
   "source": [
    "# Evaluate the neural network\n",
    "\n",
    "history = evaluate_neural_net(kf, X, y, tfidf)"
   ]
  },
  {
   "cell_type": "code",
   "execution_count": 23,
   "metadata": {},
   "outputs": [
    {
     "data": {
      "image/png": "[encoded data removed]",
      "text/plain": [
       "<Figure size 1440x720 with 2 Axes>"
      ]
     },
     "metadata": {
      "needs_background": "light"
     },
     "output_type": "display_data"
    }
   ],
   "source": [
    "# Evaluate train and validation accuracies and losses\n",
    "\n",
    "train_acc = history.history['accuracy']\n",
    "val_acc = history.history['val_accuracy']\n",
    "\n",
    "train_loss = history.history['loss']\n",
    "val_loss = history.history['val_loss']\n",
    "\n",
    "# Visualize epochs vs. train and validation accuracies and losses\n",
    "\n",
    "plt.figure(figsize=(20, 10))\n",
    "\n",
    "plt.subplot(1, 2, 1)\n",
    "plt.plot(train_acc, label='Training Accuracy')\n",
    "plt.plot(val_acc, label='Validation Accuracy')\n",
    "plt.legend()\n",
    "plt.title('Epochs vs. Training and Validation Accuracy')\n",
    "    \n",
    "plt.subplot(1, 2, 2)\n",
    "plt.plot(train_loss, label='Training Loss')\n",
    "plt.plot(val_loss, label='Validation Loss')\n",
    "plt.legend()\n",
    "plt.title('Epochs vs. Training and Validation Loss')\n",
    "\n",
    "plt.tight_layout()\n",
    "plt.savefig('accuracy_loss.png')\n",
    "plt.show()"
   ]
  },
  {
   "cell_type": "code",
   "execution_count": 24,
   "metadata": {},
   "outputs": [
    {
     "data": {
      "image/png": "[encoded data removed]",
      "text/plain": [
       "<IPython.core.display.Image object>"
      ]
     },
     "execution_count": 24,
     "metadata": {},
     "output_type": "execute_result"
    }
   ],
   "source": [
    "# Visualize the architecture of the model\n",
    "\n",
    "i = 1\n",
    "\n",
    "X_train_cv, X_test, y_train_cv, y_test = train_test_split(X, y, test_size=0.20, shuffle=True)\n",
    "\n",
    "X_train_vec = tfidf.fit_transform(X_train_cv)\n",
    "    \n",
    "model, early_stopping, model_checkpoint = build_model(X_train_vec.shape[1:], 1)\n",
    "keras.utils.plot_model(model, to_file='model_plot.png', show_shapes=True, \n",
    "                       show_layer_names=True, rankdir='TB')"
   ]
  },
  {
   "cell_type": "markdown",
   "metadata": {},
   "source": [
    "## Proposed method"
   ]
  },
  {
   "cell_type": "code",
   "execution_count": 25,
   "metadata": {},
   "outputs": [],
   "source": [
    "X = df['Content'].to_dense().values\n",
    "y = df['Label'].to_dense().values"
   ]
  },
  {
   "cell_type": "code",
   "execution_count": 26,
   "metadata": {},
   "outputs": [],
   "source": [
    "# Split the dataset into train-cv set and test set\n",
    "\n",
    "X_train_cv, X_test, y_train_cv, y_test = train_test_split(X, y, test_size=0.20, \n",
    "                                                          shuffle=True, random_state=42)"
   ]
  },
  {
   "cell_type": "code",
   "execution_count": 27,
   "metadata": {},
   "outputs": [],
   "source": [
    "# Classifiers\n",
    "\n",
    "svm = LinearSVC(C=0.90, tol=1e-05, max_iter=1500)\n",
    "ridge = RidgeClassifier(alpha=1.10, tol=1e-5)\n",
    "pas_agr = PassiveAggressiveClassifier(C=0.80, early_stopping=True, tol=1e-5,\n",
    "                                      loss='squared_hinge', n_jobs=-1)\n",
    "sgd = SGDClassifier(early_stopping=True, tol=1e-5, max_iter=1500,\n",
    "                    loss='modified_huber', penalty='elasticnet',\n",
    "                    l1_ratio=0.05, n_jobs=-1)"
   ]
  },
  {
   "cell_type": "code",
   "execution_count": 28,
   "metadata": {},
   "outputs": [],
   "source": [
    "# TF-IDF vectorizer\n",
    "\n",
    "tfidf = TfidfVectorizer(stop_words=stop_words, min_df=2, \n",
    "                        max_df=0.45, ngram_range=(1, 2))"
   ]
  },
  {
   "cell_type": "code",
   "execution_count": 29,
   "metadata": {},
   "outputs": [
    {
     "name": "stdout",
     "output_type": "stream",
     "text": [
      "Evaluation of classifier finished in 72.49 s \n",
      "Average accuracy: 89.52 % \n",
      "Average precision: 89.54 % \n",
      "Average recall: 89.51 % \n",
      "Average f-measure: 89.52 % \n",
      "\n"
     ]
    }
   ],
   "source": [
    "# Linear SVM classifier\n",
    "\n",
    "evaluate_classifier(svm, kf, X_train_cv, y_train_cv, tfidf)"
   ]
  },
  {
   "cell_type": "code",
   "execution_count": 30,
   "metadata": {},
   "outputs": [
    {
     "name": "stdout",
     "output_type": "stream",
     "text": [
      "Evaluation of classifier finished in 79.84 s \n",
      "Average accuracy: 89.48 % \n",
      "Average precision: 89.51 % \n",
      "Average recall: 89.47 % \n",
      "Average f-measure: 89.47 % \n",
      "\n"
     ]
    }
   ],
   "source": [
    "# Ridge classifier\n",
    "\n",
    "evaluate_classifier(ridge, kf, X_train_cv, y_train_cv, tfidf)"
   ]
  },
  {
   "cell_type": "code",
   "execution_count": 31,
   "metadata": {},
   "outputs": [
    {
     "name": "stdout",
     "output_type": "stream",
     "text": [
      "Evaluation of classifier finished in 77.26 s \n",
      "Average accuracy: 89.04 % \n",
      "Average precision: 89.05 % \n",
      "Average recall: 89.03 % \n",
      "Average f-measure: 89.03 % \n",
      "\n"
     ]
    }
   ],
   "source": [
    "# Passive Aggressive classifier\n",
    "\n",
    "evaluate_classifier(pas_agr, kf, X_train_cv, y_train_cv, tfidf)"
   ]
  },
  {
   "cell_type": "code",
   "execution_count": 32,
   "metadata": {},
   "outputs": [
    {
     "name": "stdout",
     "output_type": "stream",
     "text": [
      "Evaluation of classifier finished in 65.61 s \n",
      "Average accuracy: 89.06 % \n",
      "Average precision: 89.10 % \n",
      "Average recall: 89.05 % \n",
      "Average f-measure: 89.05 % \n",
      "\n"
     ]
    }
   ],
   "source": [
    "# Stochastic Gradient Descent classifier\n",
    "\n",
    "evaluate_classifier(sgd, kf, X_train_cv, y_train_cv, tfidf)"
   ]
  },
  {
   "cell_type": "code",
   "execution_count": 33,
   "metadata": {},
   "outputs": [],
   "source": [
    "# Voting ensemble of 3 classifiers\n",
    "\n",
    "boost = VotingClassifier(estimators=[\n",
    "                        ('svc', svm), ('ridge', ridge), ('pas_agr', pas_agr)],\n",
    "                        voting='hard', n_jobs=-1)"
   ]
  },
  {
   "cell_type": "code",
   "execution_count": 34,
   "metadata": {},
   "outputs": [
    {
     "name": "stdout",
     "output_type": "stream",
     "text": [
      "Evaluation of classifier finished in 86.85 s \n",
      "Average accuracy: 89.46 % \n",
      "Average precision: 89.49 % \n",
      "Average recall: 89.46 % \n",
      "Average f-measure: 89.46 % \n",
      "\n"
     ]
    }
   ],
   "source": [
    "# Voting classifier (Cross Validation)\n",
    "\n",
    "evaluate_classifier(boost, kf, X_train_cv, y_train_cv, tfidf)"
   ]
  },
  {
   "cell_type": "code",
   "execution_count": 35,
   "metadata": {},
   "outputs": [
    {
     "name": "stdout",
     "output_type": "stream",
     "text": [
      "Evaluation of ensemble classifier on test set \n",
      "Average accuracy: 89.96 % \n",
      "Average precision: 89.97 % \n",
      "Average recall: 89.97 % \n",
      "Average f-measure: 89.96 % \n",
      "\n"
     ]
    }
   ],
   "source": [
    "# Evaluate ensemble on test set\n",
    "\n",
    "metrics = np.zeros(4)\n",
    "X_train_gen = [x for x in X_train_cv]\n",
    "tfidf.fit(X_train_cv)\n",
    "X_train_vec = tfidf.transform(X_train_gen)\n",
    "boost.fit(X_train_vec, y_train_cv)\n",
    "X_test_gen = [x for x in X_test]\n",
    "X_test_vec = tfidf.transform(X_test_gen)\n",
    "y_pred = boost.predict(X_test_vec)\n",
    "metrics = get_metrics(y_test, y_pred, metrics)\n",
    "metrics = metrics * 100\n",
    "print('Evaluation of ensemble classifier on test set \\n'\n",
    "      'Average accuracy: {:.2f} % \\n'\n",
    "      'Average precision: {:.2f} % \\n'\n",
    "      'Average recall: {:.2f} % \\n'\n",
    "      'Average f-measure: {:.2f} % \\n'\n",
    "      .format(metrics[0], metrics[1],\n",
    "              metrics[2], metrics[3]))"
   ]
  },
  {
   "cell_type": "markdown",
   "metadata": {},
   "source": [
    "## Deliverable for competition"
   ]
  },
  {
   "cell_type": "code",
   "execution_count": 36,
   "metadata": {},
   "outputs": [],
   "source": [
    "df_test = pd.read_csv('test_without_labels.csv')"
   ]
  },
  {
   "cell_type": "code",
   "execution_count": 37,
   "metadata": {},
   "outputs": [],
   "source": [
    "X_final = df_test['Content'].values"
   ]
  },
  {
   "cell_type": "code",
   "execution_count": 38,
   "metadata": {},
   "outputs": [],
   "source": [
    "# Predict unlabeled dataset\n",
    "\n",
    "X_train_gen = [x for x in X]\n",
    "tfidf.fit(X_train_gen)\n",
    "X_train_vec = tfidf.transform(X_train_gen)\n",
    "boost.fit(X_train_vec, y)\n",
    "X_test_gen = [x for x in X_final]\n",
    "X_test_vec = tfidf.transform(X_test_gen)\n",
    "y_pred = boost.predict(X_test_vec)"
   ]
  },
  {
   "cell_type": "code",
   "execution_count": 39,
   "metadata": {},
   "outputs": [],
   "source": [
    "df_results = pd.DataFrame({'Id':df_test['Id'], 'Predicted':y_pred})"
   ]
  },
  {
   "cell_type": "code",
   "execution_count": 40,
   "metadata": {},
   "outputs": [],
   "source": [
    "df_results.to_csv('sentiment_predictions.csv', index=False, header=True)"
   ]
  },
  {
   "cell_type": "code",
   "execution_count": null,
   "metadata": {},
   "outputs": [],
   "source": []
  }
 ],
 "metadata": {
  "kernelspec": {
   "display_name": "Python 3",
   "language": "python",
   "name": "python3"
  },
  "language_info": {
   "codemirror_mode": {
    "name": "ipython",
    "version": 3
   },
   "file_extension": ".py",
   "mimetype": "text/x-python",
   "name": "python",
   "nbconvert_exporter": "python",
   "pygments_lexer": "ipython3",
   "version": "3.6.7"
  },
  "toc": {
   "base_numbering": 1,
   "nav_menu": {},
   "number_sections": false,
   "sideBar": true,
   "skip_h1_title": false,
   "title_cell": "Table of Contents",
   "title_sidebar": "Contents",
   "toc_cell": false,
   "toc_position": {
    "height": "calc(100% - 180px)",
    "left": "10px",
    "top": "150px",
    "width": "165px"
   },
   "toc_section_display": true,
   "toc_window_display": true
  },
  "varInspector": {
   "cols": {
    "lenName": 16,
    "lenType": 16,
    "lenVar": 40
   },
   "kernels_config": {
    "python": {
     "delete_cmd_postfix": "",
     "delete_cmd_prefix": "del ",
     "library": "var_list.py",
     "varRefreshCmd": "print(var_dic_list())"
    },
    "r": {
     "delete_cmd_postfix": ") ",
     "delete_cmd_prefix": "rm(",
     "library": "var_list.r",
     "varRefreshCmd": "cat(var_dic_list()) "
    }
   },
   "types_to_exclude": [
    "module",
    "function",
    "builtin_function_or_method",
    "instance",
    "_Feature"
   ],
   "window_display": false
  }
 },
 "nbformat": 4,
 "nbformat_minor": 2
}
